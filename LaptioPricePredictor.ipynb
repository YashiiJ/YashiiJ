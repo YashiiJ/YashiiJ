{
  "cells": [
    {
      "cell_type": "markdown",
      "id": "f1d2381c-af81-4355-b82e-418d9288fa9b",
      "metadata": {
        "id": "f1d2381c-af81-4355-b82e-418d9288fa9b"
      },
      "source": [
        "# Laptop Price Predictor"
      ]
    },
    {
      "cell_type": "code",
      "execution_count": null,
      "id": "21605cad-8f7f-4c5e-adea-9617d4155fce",
      "metadata": {
        "id": "21605cad-8f7f-4c5e-adea-9617d4155fce"
      },
      "outputs": [],
      "source": [
        "import pandas as pd\n",
        "import numpy as np"
      ]
    },
    {
      "cell_type": "code",
      "execution_count": null,
      "id": "052b9a49-bee4-4689-872f-7ea6f1ab8f7a",
      "metadata": {
        "id": "052b9a49-bee4-4689-872f-7ea6f1ab8f7a"
      },
      "outputs": [],
      "source": [
        "pd.set_option('display.max_rows', None)"
      ]
    },
    {
      "cell_type": "code",
      "execution_count": null,
      "id": "38a06741-661b-4b13-b6d3-aa28aad104b4",
      "metadata": {
        "id": "38a06741-661b-4b13-b6d3-aa28aad104b4"
      },
      "outputs": [],
      "source": [
        "df = pd.read_csv(r\"C:\\Users\\yasha\\Desktop\\laptop_data.csv\")"
      ]
    },
    {
      "cell_type": "markdown",
      "id": "fbf6868e-decd-4d0b-9ce9-19bd4a3331a9",
      "metadata": {
        "id": "fbf6868e-decd-4d0b-9ce9-19bd4a3331a9"
      },
      "source": [
        "This is how our data looks like."
      ]
    },
    {
      "cell_type": "code",
      "execution_count": null,
      "id": "64f8abc8-7435-4716-bb0e-659c704d8f14",
      "metadata": {
        "id": "64f8abc8-7435-4716-bb0e-659c704d8f14",
        "outputId": "bd71d0f0-05f0-4624-8679-be8faa936f0b"
      },
      "outputs": [
        {
          "data": {
            "text/html": [
              "<div>\n",
              "<style scoped>\n",
              "    .dataframe tbody tr th:only-of-type {\n",
              "        vertical-align: middle;\n",
              "    }\n",
              "\n",
              "    .dataframe tbody tr th {\n",
              "        vertical-align: top;\n",
              "    }\n",
              "\n",
              "    .dataframe thead th {\n",
              "        text-align: right;\n",
              "    }\n",
              "</style>\n",
              "<table border=\"1\" class=\"dataframe\">\n",
              "  <thead>\n",
              "    <tr style=\"text-align: right;\">\n",
              "      <th></th>\n",
              "      <th>Unnamed: 0</th>\n",
              "      <th>Company</th>\n",
              "      <th>TypeName</th>\n",
              "      <th>Inches</th>\n",
              "      <th>ScreenResolution</th>\n",
              "      <th>Cpu</th>\n",
              "      <th>Ram</th>\n",
              "      <th>Memory</th>\n",
              "      <th>Gpu</th>\n",
              "      <th>OpSys</th>\n",
              "      <th>Weight</th>\n",
              "      <th>Price</th>\n",
              "    </tr>\n",
              "  </thead>\n",
              "  <tbody>\n",
              "    <tr>\n",
              "      <th>0</th>\n",
              "      <td>0</td>\n",
              "      <td>Apple</td>\n",
              "      <td>Ultrabook</td>\n",
              "      <td>13.3</td>\n",
              "      <td>IPS Panel Retina Display 2560x1600</td>\n",
              "      <td>Intel Core i5 2.3GHz</td>\n",
              "      <td>8GB</td>\n",
              "      <td>128GB SSD</td>\n",
              "      <td>Intel Iris Plus Graphics 640</td>\n",
              "      <td>macOS</td>\n",
              "      <td>1.37kg</td>\n",
              "      <td>71378.6832</td>\n",
              "    </tr>\n",
              "    <tr>\n",
              "      <th>1</th>\n",
              "      <td>1</td>\n",
              "      <td>Apple</td>\n",
              "      <td>Ultrabook</td>\n",
              "      <td>13.3</td>\n",
              "      <td>1440x900</td>\n",
              "      <td>Intel Core i5 1.8GHz</td>\n",
              "      <td>8GB</td>\n",
              "      <td>128GB Flash Storage</td>\n",
              "      <td>Intel HD Graphics 6000</td>\n",
              "      <td>macOS</td>\n",
              "      <td>1.34kg</td>\n",
              "      <td>47895.5232</td>\n",
              "    </tr>\n",
              "    <tr>\n",
              "      <th>2</th>\n",
              "      <td>2</td>\n",
              "      <td>HP</td>\n",
              "      <td>Notebook</td>\n",
              "      <td>15.6</td>\n",
              "      <td>Full HD 1920x1080</td>\n",
              "      <td>Intel Core i5 7200U 2.5GHz</td>\n",
              "      <td>8GB</td>\n",
              "      <td>256GB SSD</td>\n",
              "      <td>Intel HD Graphics 620</td>\n",
              "      <td>No OS</td>\n",
              "      <td>1.86kg</td>\n",
              "      <td>30636.0000</td>\n",
              "    </tr>\n",
              "    <tr>\n",
              "      <th>3</th>\n",
              "      <td>3</td>\n",
              "      <td>Apple</td>\n",
              "      <td>Ultrabook</td>\n",
              "      <td>15.4</td>\n",
              "      <td>IPS Panel Retina Display 2880x1800</td>\n",
              "      <td>Intel Core i7 2.7GHz</td>\n",
              "      <td>16GB</td>\n",
              "      <td>512GB SSD</td>\n",
              "      <td>AMD Radeon Pro 455</td>\n",
              "      <td>macOS</td>\n",
              "      <td>1.83kg</td>\n",
              "      <td>135195.3360</td>\n",
              "    </tr>\n",
              "    <tr>\n",
              "      <th>4</th>\n",
              "      <td>4</td>\n",
              "      <td>Apple</td>\n",
              "      <td>Ultrabook</td>\n",
              "      <td>13.3</td>\n",
              "      <td>IPS Panel Retina Display 2560x1600</td>\n",
              "      <td>Intel Core i5 3.1GHz</td>\n",
              "      <td>8GB</td>\n",
              "      <td>256GB SSD</td>\n",
              "      <td>Intel Iris Plus Graphics 650</td>\n",
              "      <td>macOS</td>\n",
              "      <td>1.37kg</td>\n",
              "      <td>96095.8080</td>\n",
              "    </tr>\n",
              "  </tbody>\n",
              "</table>\n",
              "</div>"
            ],
            "text/plain": [
              "   Unnamed: 0 Company   TypeName  Inches                    ScreenResolution  \\\n",
              "0           0   Apple  Ultrabook    13.3  IPS Panel Retina Display 2560x1600   \n",
              "1           1   Apple  Ultrabook    13.3                            1440x900   \n",
              "2           2      HP   Notebook    15.6                   Full HD 1920x1080   \n",
              "3           3   Apple  Ultrabook    15.4  IPS Panel Retina Display 2880x1800   \n",
              "4           4   Apple  Ultrabook    13.3  IPS Panel Retina Display 2560x1600   \n",
              "\n",
              "                          Cpu   Ram               Memory  \\\n",
              "0        Intel Core i5 2.3GHz   8GB            128GB SSD   \n",
              "1        Intel Core i5 1.8GHz   8GB  128GB Flash Storage   \n",
              "2  Intel Core i5 7200U 2.5GHz   8GB            256GB SSD   \n",
              "3        Intel Core i7 2.7GHz  16GB            512GB SSD   \n",
              "4        Intel Core i5 3.1GHz   8GB            256GB SSD   \n",
              "\n",
              "                            Gpu  OpSys  Weight        Price  \n",
              "0  Intel Iris Plus Graphics 640  macOS  1.37kg   71378.6832  \n",
              "1        Intel HD Graphics 6000  macOS  1.34kg   47895.5232  \n",
              "2         Intel HD Graphics 620  No OS  1.86kg   30636.0000  \n",
              "3            AMD Radeon Pro 455  macOS  1.83kg  135195.3360  \n",
              "4  Intel Iris Plus Graphics 650  macOS  1.37kg   96095.8080  "
            ]
          },
          "execution_count": 88,
          "metadata": {},
          "output_type": "execute_result"
        }
      ],
      "source": [
        "df.head()"
      ]
    },
    {
      "cell_type": "code",
      "execution_count": null,
      "id": "10331b6f-d87f-4e3f-b118-7144367b267f",
      "metadata": {
        "id": "10331b6f-d87f-4e3f-b118-7144367b267f",
        "outputId": "243daea7-aa88-49a7-ce86-5df2565d8848"
      },
      "outputs": [
        {
          "data": {
            "text/plain": [
              "(1303, 12)"
            ]
          },
          "execution_count": 89,
          "metadata": {},
          "output_type": "execute_result"
        }
      ],
      "source": [
        "df.shape"
      ]
    },
    {
      "cell_type": "code",
      "execution_count": null,
      "id": "90794c4b-b40d-45de-ae7d-e216aab8c60d",
      "metadata": {
        "id": "90794c4b-b40d-45de-ae7d-e216aab8c60d",
        "outputId": "eae2f972-e1de-49d6-b42a-4a23633e0802"
      },
      "outputs": [
        {
          "name": "stdout",
          "output_type": "stream",
          "text": [
            "<class 'pandas.core.frame.DataFrame'>\n",
            "RangeIndex: 1303 entries, 0 to 1302\n",
            "Data columns (total 12 columns):\n",
            " #   Column            Non-Null Count  Dtype  \n",
            "---  ------            --------------  -----  \n",
            " 0   Unnamed: 0        1303 non-null   int64  \n",
            " 1   Company           1303 non-null   object \n",
            " 2   TypeName          1303 non-null   object \n",
            " 3   Inches            1303 non-null   float64\n",
            " 4   ScreenResolution  1303 non-null   object \n",
            " 5   Cpu               1303 non-null   object \n",
            " 6   Ram               1303 non-null   object \n",
            " 7   Memory            1303 non-null   object \n",
            " 8   Gpu               1303 non-null   object \n",
            " 9   OpSys             1303 non-null   object \n",
            " 10  Weight            1303 non-null   object \n",
            " 11  Price             1303 non-null   float64\n",
            "dtypes: float64(2), int64(1), object(9)\n",
            "memory usage: 122.3+ KB\n"
          ]
        }
      ],
      "source": [
        "df.info()"
      ]
    },
    {
      "cell_type": "code",
      "execution_count": null,
      "id": "ff5e85a7-65f6-49d3-968f-19e9b4bd87b5",
      "metadata": {
        "id": "ff5e85a7-65f6-49d3-968f-19e9b4bd87b5",
        "outputId": "f424c12f-6c7b-4ce0-d32f-72219ca3710c"
      },
      "outputs": [
        {
          "data": {
            "text/plain": [
              "0"
            ]
          },
          "execution_count": 91,
          "metadata": {},
          "output_type": "execute_result"
        }
      ],
      "source": [
        "df.duplicated().sum()"
      ]
    },
    {
      "cell_type": "markdown",
      "id": "1db41845-a66d-4143-82a4-500951f69548",
      "metadata": {
        "id": "1db41845-a66d-4143-82a4-500951f69548"
      },
      "source": [
        "So by looking at this data and performing some initial functions we can see that most of the data is clean --> there are no null values or duplicated values. However some limitations are there.\n",
        "\n",
        "\n",
        "Limitations -\n",
        "* Data is very small.\n",
        "* More than 1 type of information in single column like 'Screen Resolution', 'Memory' etc."
      ]
    },
    {
      "cell_type": "markdown",
      "id": "4234ec74-c907-48c5-8c90-8774322eb3bc",
      "metadata": {
        "id": "4234ec74-c907-48c5-8c90-8774322eb3bc"
      },
      "source": [
        "## Data Cleaning\n",
        "* Removing unnecessary columns.\n",
        "* Changing our 'Ram' and ' Weight' columns as per the requirement"
      ]
    },
    {
      "cell_type": "code",
      "execution_count": null,
      "id": "4bc89c18-74c8-4c98-aab2-da92cbc7efcb",
      "metadata": {
        "id": "4bc89c18-74c8-4c98-aab2-da92cbc7efcb"
      },
      "outputs": [],
      "source": [
        "df = df.drop(columns = ['Unnamed: 0'], axis = 1)"
      ]
    },
    {
      "cell_type": "code",
      "execution_count": null,
      "id": "2a2edf2b-8faf-47f3-8ac2-3570074b4343",
      "metadata": {
        "id": "2a2edf2b-8faf-47f3-8ac2-3570074b4343"
      },
      "outputs": [],
      "source": [
        "df['Ram'] = df['Ram'].str.replace('GB','')\n",
        "df['Weight'] = df['Weight'].str.replace('kg','')\n",
        "\n",
        "df['Ram'] = df['Ram'].astype(int)\n",
        "df['Weight'] = df['Weight'].astype(float)"
      ]
    },
    {
      "cell_type": "code",
      "execution_count": null,
      "id": "4800adaf-af6f-4207-8440-6922763db138",
      "metadata": {
        "id": "4800adaf-af6f-4207-8440-6922763db138",
        "outputId": "9786a03f-9966-4925-b81b-8edc0610acbc"
      },
      "outputs": [
        {
          "data": {
            "text/html": [
              "<div>\n",
              "<style scoped>\n",
              "    .dataframe tbody tr th:only-of-type {\n",
              "        vertical-align: middle;\n",
              "    }\n",
              "\n",
              "    .dataframe tbody tr th {\n",
              "        vertical-align: top;\n",
              "    }\n",
              "\n",
              "    .dataframe thead th {\n",
              "        text-align: right;\n",
              "    }\n",
              "</style>\n",
              "<table border=\"1\" class=\"dataframe\">\n",
              "  <thead>\n",
              "    <tr style=\"text-align: right;\">\n",
              "      <th></th>\n",
              "      <th>Company</th>\n",
              "      <th>TypeName</th>\n",
              "      <th>Inches</th>\n",
              "      <th>ScreenResolution</th>\n",
              "      <th>Cpu</th>\n",
              "      <th>Ram</th>\n",
              "      <th>Memory</th>\n",
              "      <th>Gpu</th>\n",
              "      <th>OpSys</th>\n",
              "      <th>Weight</th>\n",
              "      <th>Price</th>\n",
              "    </tr>\n",
              "  </thead>\n",
              "  <tbody>\n",
              "    <tr>\n",
              "      <th>0</th>\n",
              "      <td>Apple</td>\n",
              "      <td>Ultrabook</td>\n",
              "      <td>13.3</td>\n",
              "      <td>IPS Panel Retina Display 2560x1600</td>\n",
              "      <td>Intel Core i5 2.3GHz</td>\n",
              "      <td>8</td>\n",
              "      <td>128GB SSD</td>\n",
              "      <td>Intel Iris Plus Graphics 640</td>\n",
              "      <td>macOS</td>\n",
              "      <td>1.37</td>\n",
              "      <td>71378.6832</td>\n",
              "    </tr>\n",
              "  </tbody>\n",
              "</table>\n",
              "</div>"
            ],
            "text/plain": [
              "  Company   TypeName  Inches                    ScreenResolution  \\\n",
              "0   Apple  Ultrabook    13.3  IPS Panel Retina Display 2560x1600   \n",
              "\n",
              "                    Cpu  Ram     Memory                           Gpu  OpSys  \\\n",
              "0  Intel Core i5 2.3GHz    8  128GB SSD  Intel Iris Plus Graphics 640  macOS   \n",
              "\n",
              "   Weight       Price  \n",
              "0    1.37  71378.6832  "
            ]
          },
          "execution_count": 94,
          "metadata": {},
          "output_type": "execute_result"
        }
      ],
      "source": [
        "df.head(1)"
      ]
    },
    {
      "cell_type": "markdown",
      "id": "52009e0d-82d4-48bd-8166-c21137744019",
      "metadata": {
        "id": "52009e0d-82d4-48bd-8166-c21137744019"
      },
      "source": [
        "# EDA"
      ]
    },
    {
      "cell_type": "markdown",
      "id": "67d76281-17f7-42cb-a509-fd3b914f4bb7",
      "metadata": {
        "id": "67d76281-17f7-42cb-a509-fd3b914f4bb7"
      },
      "source": [
        "Doing Univariate and Multivariate analysis on the columns.\n",
        "* Univariate analysis on our target variable\n",
        "* multivariate analysis on our independent variables to find the correlation with target variable"
      ]
    },
    {
      "cell_type": "code",
      "execution_count": null,
      "id": "889339c1-2d4e-42a9-ad16-76ee767a38db",
      "metadata": {
        "id": "889339c1-2d4e-42a9-ad16-76ee767a38db"
      },
      "outputs": [],
      "source": [
        "import seaborn as sns"
      ]
    },
    {
      "cell_type": "code",
      "execution_count": null,
      "id": "62587b7f-d655-4b8e-950f-7d2944597254",
      "metadata": {
        "id": "62587b7f-d655-4b8e-950f-7d2944597254",
        "outputId": "6f118c8d-f13c-419e-a3d6-d14253415883"
      },
      "outputs": [
        {
          "data": {
            "image/png": "[encoded data removed]",
            "text/plain": [
              "<Figure size 640x480 with 1 Axes>"
            ]
          },
          "metadata": {},
          "output_type": "display_data"
        }
      ],
      "source": [
        "sns.histplot(df['Price'], kde = True);\n",
        "# data is right skewed"
      ]
    },
    {
      "cell_type": "markdown",
      "id": "a51d3650-d168-470b-8b7b-87714096c409",
      "metadata": {
        "id": "a51d3650-d168-470b-8b7b-87714096c409"
      },
      "source": [
        "#### Univariate & Multivariate analysis on Company and Price column"
      ]
    },
    {
      "cell_type": "code",
      "execution_count": null,
      "id": "9709a6c0-e040-46b2-863a-4de6022a2166",
      "metadata": {
        "id": "9709a6c0-e040-46b2-863a-4de6022a2166",
        "outputId": "dbc11ef9-5dfd-4159-932d-cb314c8734b2"
      },
      "outputs": [
        {
          "data": {
            "image/png": "[encoded data removed]",
            "text/plain": [
              "<Figure size 640x480 with 1 Axes>"
            ]
          },
          "metadata": {},
          "output_type": "display_data"
        }
      ],
      "source": [
        "df['Company'].value_counts().plot(kind = 'bar');"
      ]
    },
    {
      "cell_type": "markdown",
      "id": "31a1e840-b487-4136-8e1c-e506f6b20085",
      "metadata": {
        "id": "31a1e840-b487-4136-8e1c-e506f6b20085"
      },
      "source": [
        "* Dell and Lenovo are the Company which has major market share, closely followed by HP and then Asus and so on.\n",
        "* There are some companies which has sold very less laptops"
      ]
    },
    {
      "cell_type": "code",
      "execution_count": null,
      "id": "069dd2c6-25c1-4b7f-a0a4-d6c116ecfbb9",
      "metadata": {
        "id": "069dd2c6-25c1-4b7f-a0a4-d6c116ecfbb9",
        "outputId": "d646b131-5147-426c-a27b-533b52e7e92d"
      },
      "outputs": [
        {
          "data": {
            "image/png": "[encoded data removed]",
            "text/plain": [
              "<Figure size 640x480 with 1 Axes>"
            ]
          },
          "metadata": {},
          "output_type": "display_data"
        }
      ],
      "source": [
        "import matplotlib.pyplot as plt\n",
        "\n",
        "sns.barplot(x = df['Company'], y = df['Price'])\n",
        "plt.xticks(rotation = 'vertical')\n",
        "plt.show()"
      ]
    },
    {
      "cell_type": "markdown",
      "id": "d4c2e2f8-075d-43fb-8d23-7c6e05d9abf5",
      "metadata": {
        "id": "d4c2e2f8-075d-43fb-8d23-7c6e05d9abf5"
      },
      "source": [
        "### Univariate and Multivariate analysis on Typename and Price columns"
      ]
    },
    {
      "cell_type": "code",
      "execution_count": null,
      "id": "d2509a5c-58c0-4fd4-a3b0-07e0477f814c",
      "metadata": {
        "id": "d2509a5c-58c0-4fd4-a3b0-07e0477f814c",
        "outputId": "849afe28-4073-4a93-a3c0-154fbb6fe75b"
      },
      "outputs": [
        {
          "data": {
            "text/plain": [
              "<Axes: >"
            ]
          },
          "execution_count": 99,
          "metadata": {},
          "output_type": "execute_result"
        },
        {
          "data": {
            "image/png": "[encoded data removed]",
            "text/plain": [
              "<Figure size 640x480 with 1 Axes>"
            ]
          },
          "metadata": {},
          "output_type": "display_data"
        }
      ],
      "source": [
        "df['TypeName'].value_counts().plot(kind = 'bar')"
      ]
    },
    {
      "cell_type": "markdown",
      "id": "adbb03b8-92be-4171-8b42-e28ef37d3170",
      "metadata": {
        "id": "adbb03b8-92be-4171-8b42-e28ef37d3170"
      },
      "source": [
        "* most sold type of laptop is Notebook.\n",
        "* least sold type of laptop is Netbook"
      ]
    },
    {
      "cell_type": "code",
      "execution_count": null,
      "id": "044d1cc2-e04b-4423-a629-4f2c7dbbc2e6",
      "metadata": {
        "id": "044d1cc2-e04b-4423-a629-4f2c7dbbc2e6",
        "outputId": "157e7f3f-317b-4d81-941c-18bdc4f76400"
      },
      "outputs": [
        {
          "data": {
            "image/png": "[encoded data removed]",
            "text/plain": [
              "<Figure size 640x480 with 1 Axes>"
            ]
          },
          "metadata": {},
          "output_type": "display_data"
        }
      ],
      "source": [
        "sns.barplot(x = df['TypeName'], y = df['Price'])\n",
        "plt.xticks(rotation = 'vertical')\n",
        "plt.show()"
      ]
    },
    {
      "cell_type": "code",
      "execution_count": null,
      "id": "fc55a5f7-ba88-486e-bb0e-e8dea5d4ce1d",
      "metadata": {
        "id": "fc55a5f7-ba88-486e-bb0e-e8dea5d4ce1d",
        "outputId": "af5b865b-88bc-41d0-cf95-f766b7d41e23"
      },
      "outputs": [
        {
          "data": {
            "image/png": "[encoded data removed]",
            "text/plain": [
              "<Figure size 640x480 with 1 Axes>"
            ]
          },
          "metadata": {},
          "output_type": "display_data"
        }
      ],
      "source": [
        "sns.scatterplot(x = df['Inches'], y = df['Price']);"
      ]
    },
    {
      "cell_type": "markdown",
      "id": "815f6480-31c1-4e8a-a80b-d97a14fa7a9c",
      "metadata": {
        "id": "815f6480-31c1-4e8a-a80b-d97a14fa7a9c"
      },
      "source": [
        "* By analysing Inches column we cannot see much relation with price. Data is not showing any kind pattern"
      ]
    },
    {
      "cell_type": "markdown",
      "id": "cb025c3b-7118-4ea4-828c-f1ebb8e84567",
      "metadata": {
        "id": "cb025c3b-7118-4ea4-828c-f1ebb8e84567"
      },
      "source": [
        "### Feature Extraction and analysis of 'ScreenResolution' column"
      ]
    },
    {
      "cell_type": "code",
      "execution_count": null,
      "id": "f21e7a77-762b-4b47-ab00-7113dec7466e",
      "metadata": {
        "id": "f21e7a77-762b-4b47-ab00-7113dec7466e",
        "outputId": "26cb40e1-ff08-4083-cd73-7525b1bddacf"
      },
      "outputs": [
        {
          "data": {
            "text/plain": [
              "Full HD 1920x1080                                507\n",
              "1366x768                                         281\n",
              "IPS Panel Full HD 1920x1080                      230\n",
              "IPS Panel Full HD / Touchscreen 1920x1080         53\n",
              "Full HD / Touchscreen 1920x1080                   47\n",
              "1600x900                                          23\n",
              "Touchscreen 1366x768                              16\n",
              "Quad HD+ / Touchscreen 3200x1800                  15\n",
              "IPS Panel 4K Ultra HD 3840x2160                   12\n",
              "IPS Panel 4K Ultra HD / Touchscreen 3840x2160     11\n",
              "4K Ultra HD / Touchscreen 3840x2160               10\n",
              "4K Ultra HD 3840x2160                              7\n",
              "Touchscreen 2560x1440                              7\n",
              "IPS Panel 1366x768                                 7\n",
              "IPS Panel Quad HD+ / Touchscreen 3200x1800         6\n",
              "IPS Panel Retina Display 2560x1600                 6\n",
              "IPS Panel Retina Display 2304x1440                 6\n",
              "Touchscreen 2256x1504                              6\n",
              "IPS Panel Touchscreen 2560x1440                    5\n",
              "IPS Panel Retina Display 2880x1800                 4\n",
              "IPS Panel Touchscreen 1920x1200                    4\n",
              "1440x900                                           4\n",
              "IPS Panel 2560x1440                                4\n",
              "IPS Panel Quad HD+ 2560x1440                       3\n",
              "Quad HD+ 3200x1800                                 3\n",
              "1920x1080                                          3\n",
              "Touchscreen 2400x1600                              3\n",
              "2560x1440                                          3\n",
              "IPS Panel Touchscreen 1366x768                     3\n",
              "IPS Panel Touchscreen / 4K Ultra HD 3840x2160      2\n",
              "IPS Panel Full HD 2160x1440                        2\n",
              "IPS Panel Quad HD+ 3200x1800                       2\n",
              "IPS Panel Retina Display 2736x1824                 1\n",
              "IPS Panel Full HD 1920x1200                        1\n",
              "IPS Panel Full HD 2560x1440                        1\n",
              "IPS Panel Full HD 1366x768                         1\n",
              "Touchscreen / Full HD 1920x1080                    1\n",
              "Touchscreen / Quad HD+ 3200x1800                   1\n",
              "Touchscreen / 4K Ultra HD 3840x2160                1\n",
              "IPS Panel Touchscreen 2400x1600                    1\n",
              "Name: ScreenResolution, dtype: int64"
            ]
          },
          "execution_count": 102,
          "metadata": {},
          "output_type": "execute_result"
        }
      ],
      "source": [
        "df['ScreenResolution'].value_counts()"
      ]
    },
    {
      "cell_type": "markdown",
      "id": "084e9068-c658-4100-9cb9-d7bdcdf0c14c",
      "metadata": {
        "id": "084e9068-c658-4100-9cb9-d7bdcdf0c14c"
      },
      "source": [
        "* In Screen Resolution column, we can see lot of hidden information such as Touchscreen, IPS Display and at the end we can see screen resolution.\n",
        "* Extracting this information and making new columns\n",
        "* Multivariate Analysis on these columns with Price"
      ]
    },
    {
      "cell_type": "code",
      "execution_count": null,
      "id": "b9f11f19-a815-46c1-b316-185c7f9863d9",
      "metadata": {
        "id": "b9f11f19-a815-46c1-b316-185c7f9863d9"
      },
      "outputs": [],
      "source": [
        "df['Touchscreen'] = df['ScreenResolution'].apply(lambda x:1 if 'Touchscreen' in x else 0)"
      ]
    },
    {
      "cell_type": "code",
      "execution_count": null,
      "id": "93d53b63-93d4-4e36-859c-bc298607cccc",
      "metadata": {
        "id": "93d53b63-93d4-4e36-859c-bc298607cccc",
        "outputId": "3ca2776a-af63-46e9-b145-0b353776d242"
      },
      "outputs": [
        {
          "data": {
            "text/plain": [
              "<Axes: >"
            ]
          },
          "execution_count": 104,
          "metadata": {},
          "output_type": "execute_result"
        },
        {
          "data": {
            "image/png": "[encoded data removed]",
            "text/plain": [
              "<Figure size 640x480 with 1 Axes>"
            ]
          },
          "metadata": {},
          "output_type": "display_data"
        }
      ],
      "source": [
        "df['Touchscreen'].value_counts().plot(kind = 'bar')"
      ]
    },
    {
      "cell_type": "code",
      "execution_count": null,
      "id": "6eea61e7-ec68-4f09-ad52-c48384148316",
      "metadata": {
        "id": "6eea61e7-ec68-4f09-ad52-c48384148316",
        "outputId": "6ccb9857-eee1-41b3-bd26-3c330aa01e84"
      },
      "outputs": [
        {
          "data": {
            "image/png": "[encoded data removed]",
            "text/plain": [
              "<Figure size 640x480 with 1 Axes>"
            ]
          },
          "metadata": {},
          "output_type": "display_data"
        }
      ],
      "source": [
        "sns.barplot(x = df['Touchscreen'], y = df['Price']);"
      ]
    },
    {
      "cell_type": "markdown",
      "id": "a111da25-9103-420a-b3fd-3a0191cc4c14",
      "metadata": {
        "id": "a111da25-9103-420a-b3fd-3a0191cc4c14"
      },
      "source": [
        "* Majority of the laptops sold are not touchscreen but we can see a direct relation with price.\n",
        "* Touchscreen laptops are more costly than normal laptops"
      ]
    },
    {
      "cell_type": "code",
      "execution_count": null,
      "id": "84b35617-0320-4b89-a1b8-432689d83fe1",
      "metadata": {
        "id": "84b35617-0320-4b89-a1b8-432689d83fe1"
      },
      "outputs": [],
      "source": [
        "df['Ips'] = df['ScreenResolution'].apply(lambda x:1 if 'IPS' in x else 0)"
      ]
    },
    {
      "cell_type": "code",
      "execution_count": null,
      "id": "d892235c-8bbf-4838-b7d2-b69b878fa683",
      "metadata": {
        "id": "d892235c-8bbf-4838-b7d2-b69b878fa683",
        "outputId": "f2a0dfff-4afd-4425-a4ea-d126d46c441c"
      },
      "outputs": [
        {
          "data": {
            "text/plain": [
              "<Axes: >"
            ]
          },
          "execution_count": 107,
          "metadata": {},
          "output_type": "execute_result"
        },
        {
          "data": {
            "image/png": "[encoded data removed]",
            "text/plain": [
              "<Figure size 640x480 with 1 Axes>"
            ]
          },
          "metadata": {},
          "output_type": "display_data"
        }
      ],
      "source": [
        "df['Ips'].value_counts().plot(kind = 'bar')"
      ]
    },
    {
      "cell_type": "code",
      "execution_count": null,
      "id": "b6c0db87-23a0-4a63-b79b-d184d0015eab",
      "metadata": {
        "id": "b6c0db87-23a0-4a63-b79b-d184d0015eab",
        "outputId": "40dd7025-1c5a-4895-e930-5df58e1453dc"
      },
      "outputs": [
        {
          "data": {
            "image/png": "[encoded data removed]",
            "text/plain": [
              "<Figure size 640x480 with 1 Axes>"
            ]
          },
          "metadata": {},
          "output_type": "display_data"
        }
      ],
      "source": [
        "sns.barplot(x = df['Ips'], y = df['Price']);"
      ]
    },
    {
      "cell_type": "markdown",
      "id": "61ee2627-5f7c-4285-8bb7-6c0385e01e57",
      "metadata": {
        "id": "61ee2627-5f7c-4285-8bb7-6c0385e01e57"
      },
      "source": [
        "* Almost like touchscreen --> IPS Display costs more but moajority sold laptops are normal"
      ]
    },
    {
      "cell_type": "markdown",
      "id": "22fbdf42-33fa-42a6-808c-57f40954b58c",
      "metadata": {
        "id": "22fbdf42-33fa-42a6-808c-57f40954b58c"
      },
      "source": [
        "##### Extracting x resolution and y resolution"
      ]
    },
    {
      "cell_type": "code",
      "execution_count": null,
      "id": "2dbc8f31-6538-4343-ac67-5f709c051b28",
      "metadata": {
        "id": "2dbc8f31-6538-4343-ac67-5f709c051b28"
      },
      "outputs": [],
      "source": [
        "new = df['ScreenResolution'].str.split('x', n = 1, expand = True)"
      ]
    },
    {
      "cell_type": "code",
      "execution_count": null,
      "id": "24446ff3-f5d3-47ca-86e5-908020105c1b",
      "metadata": {
        "id": "24446ff3-f5d3-47ca-86e5-908020105c1b"
      },
      "outputs": [],
      "source": [
        "df['x_res'] = new[0]\n",
        "df['y_res'] = new[1]"
      ]
    },
    {
      "cell_type": "code",
      "execution_count": null,
      "id": "2f9f429d-b0e5-4ab7-8d13-02678a19585a",
      "metadata": {
        "id": "2f9f429d-b0e5-4ab7-8d13-02678a19585a",
        "outputId": "0657db36-b435-4b73-e886-cde2d215964c"
      },
      "outputs": [
        {
          "data": {
            "text/html": [
              "<div>\n",
              "<style scoped>\n",
              "    .dataframe tbody tr th:only-of-type {\n",
              "        vertical-align: middle;\n",
              "    }\n",
              "\n",
              "    .dataframe tbody tr th {\n",
              "        vertical-align: top;\n",
              "    }\n",
              "\n",
              "    .dataframe thead th {\n",
              "        text-align: right;\n",
              "    }\n",
              "</style>\n",
              "<table border=\"1\" class=\"dataframe\">\n",
              "  <thead>\n",
              "    <tr style=\"text-align: right;\">\n",
              "      <th></th>\n",
              "      <th>Company</th>\n",
              "      <th>TypeName</th>\n",
              "      <th>Inches</th>\n",
              "      <th>ScreenResolution</th>\n",
              "      <th>Cpu</th>\n",
              "      <th>Ram</th>\n",
              "      <th>Memory</th>\n",
              "      <th>Gpu</th>\n",
              "      <th>OpSys</th>\n",
              "      <th>Weight</th>\n",
              "      <th>Price</th>\n",
              "      <th>Touchscreen</th>\n",
              "      <th>Ips</th>\n",
              "      <th>x_res</th>\n",
              "      <th>y_res</th>\n",
              "    </tr>\n",
              "  </thead>\n",
              "  <tbody>\n",
              "    <tr>\n",
              "      <th>615</th>\n",
              "      <td>Asus</td>\n",
              "      <td>Gaming</td>\n",
              "      <td>17.3</td>\n",
              "      <td>Full HD 1920x1080</td>\n",
              "      <td>Intel Core i7 7700HQ 2.8GHz</td>\n",
              "      <td>8</td>\n",
              "      <td>128GB SSD +  1TB HDD</td>\n",
              "      <td>Nvidia GeForce GTX 1050</td>\n",
              "      <td>Windows 10</td>\n",
              "      <td>3.00</td>\n",
              "      <td>62231.040</td>\n",
              "      <td>0</td>\n",
              "      <td>0</td>\n",
              "      <td>Full HD 1920</td>\n",
              "      <td>1080</td>\n",
              "    </tr>\n",
              "    <tr>\n",
              "      <th>872</th>\n",
              "      <td>Toshiba</td>\n",
              "      <td>Notebook</td>\n",
              "      <td>15.6</td>\n",
              "      <td>IPS Panel Full HD 1920x1080</td>\n",
              "      <td>Intel Core i7 7500U 2.7GHz</td>\n",
              "      <td>8</td>\n",
              "      <td>256GB SSD</td>\n",
              "      <td>Intel HD Graphics 620</td>\n",
              "      <td>Windows 10</td>\n",
              "      <td>2.00</td>\n",
              "      <td>73952.640</td>\n",
              "      <td>0</td>\n",
              "      <td>1</td>\n",
              "      <td>IPS Panel Full HD 1920</td>\n",
              "      <td>1080</td>\n",
              "    </tr>\n",
              "    <tr>\n",
              "      <th>642</th>\n",
              "      <td>Lenovo</td>\n",
              "      <td>Ultrabook</td>\n",
              "      <td>14.0</td>\n",
              "      <td>IPS Panel Full HD 1920x1080</td>\n",
              "      <td>Intel Core i7 7500U 2.7GHz</td>\n",
              "      <td>16</td>\n",
              "      <td>512GB SSD</td>\n",
              "      <td>Intel HD Graphics 620</td>\n",
              "      <td>Windows 10</td>\n",
              "      <td>1.14</td>\n",
              "      <td>130536.000</td>\n",
              "      <td>0</td>\n",
              "      <td>1</td>\n",
              "      <td>IPS Panel Full HD 1920</td>\n",
              "      <td>1080</td>\n",
              "    </tr>\n",
              "    <tr>\n",
              "      <th>459</th>\n",
              "      <td>HP</td>\n",
              "      <td>Notebook</td>\n",
              "      <td>17.3</td>\n",
              "      <td>1600x900</td>\n",
              "      <td>Intel Core i3 6006U 2GHz</td>\n",
              "      <td>8</td>\n",
              "      <td>256GB SSD</td>\n",
              "      <td>Intel HD Graphics 520</td>\n",
              "      <td>Windows 10</td>\n",
              "      <td>2.50</td>\n",
              "      <td>34093.872</td>\n",
              "      <td>0</td>\n",
              "      <td>0</td>\n",
              "      <td>1600</td>\n",
              "      <td>900</td>\n",
              "    </tr>\n",
              "    <tr>\n",
              "      <th>131</th>\n",
              "      <td>Dell</td>\n",
              "      <td>Notebook</td>\n",
              "      <td>15.6</td>\n",
              "      <td>Full HD 1920x1080</td>\n",
              "      <td>Intel Core i3 6006U 2GHz</td>\n",
              "      <td>4</td>\n",
              "      <td>1TB HDD</td>\n",
              "      <td>AMD Radeon R5 M430</td>\n",
              "      <td>Windows 10</td>\n",
              "      <td>2.20</td>\n",
              "      <td>23922.720</td>\n",
              "      <td>0</td>\n",
              "      <td>0</td>\n",
              "      <td>Full HD 1920</td>\n",
              "      <td>1080</td>\n",
              "    </tr>\n",
              "  </tbody>\n",
              "</table>\n",
              "</div>"
            ],
            "text/plain": [
              "     Company   TypeName  Inches             ScreenResolution  \\\n",
              "615     Asus     Gaming    17.3            Full HD 1920x1080   \n",
              "872  Toshiba   Notebook    15.6  IPS Panel Full HD 1920x1080   \n",
              "642   Lenovo  Ultrabook    14.0  IPS Panel Full HD 1920x1080   \n",
              "459       HP   Notebook    17.3                     1600x900   \n",
              "131     Dell   Notebook    15.6            Full HD 1920x1080   \n",
              "\n",
              "                             Cpu  Ram                Memory  \\\n",
              "615  Intel Core i7 7700HQ 2.8GHz    8  128GB SSD +  1TB HDD   \n",
              "872   Intel Core i7 7500U 2.7GHz    8             256GB SSD   \n",
              "642   Intel Core i7 7500U 2.7GHz   16             512GB SSD   \n",
              "459     Intel Core i3 6006U 2GHz    8             256GB SSD   \n",
              "131     Intel Core i3 6006U 2GHz    4               1TB HDD   \n",
              "\n",
              "                         Gpu       OpSys  Weight       Price  Touchscreen  \\\n",
              "615  Nvidia GeForce GTX 1050  Windows 10    3.00   62231.040            0   \n",
              "872    Intel HD Graphics 620  Windows 10    2.00   73952.640            0   \n",
              "642    Intel HD Graphics 620  Windows 10    1.14  130536.000            0   \n",
              "459    Intel HD Graphics 520  Windows 10    2.50   34093.872            0   \n",
              "131       AMD Radeon R5 M430  Windows 10    2.20   23922.720            0   \n",
              "\n",
              "     Ips                   x_res y_res  \n",
              "615    0            Full HD 1920  1080  \n",
              "872    1  IPS Panel Full HD 1920  1080  \n",
              "642    1  IPS Panel Full HD 1920  1080  \n",
              "459    0                    1600   900  \n",
              "131    0            Full HD 1920  1080  "
            ]
          },
          "execution_count": 111,
          "metadata": {},
          "output_type": "execute_result"
        }
      ],
      "source": [
        "df.sample(5)"
      ]
    },
    {
      "cell_type": "code",
      "execution_count": null,
      "id": "213a88b0-a9d1-41ce-9a73-46d50273efd4",
      "metadata": {
        "id": "213a88b0-a9d1-41ce-9a73-46d50273efd4"
      },
      "outputs": [],
      "source": [
        "df['x_res'] = df['x_res'].str.replace(',','').str.findall(r'(\\d+.?\\d+)').apply(lambda x:x[0])\n",
        "# Using findall function to find a pattern to extract 3-4 numeric values (x_res)"
      ]
    },
    {
      "cell_type": "code",
      "execution_count": null,
      "id": "ae329ab2-0895-4be8-937a-5e9d2e12d331",
      "metadata": {
        "id": "ae329ab2-0895-4be8-937a-5e9d2e12d331",
        "outputId": "18b1c9fd-a578-41ad-b770-9e5940113d57"
      },
      "outputs": [
        {
          "data": {
            "text/html": [
              "<div>\n",
              "<style scoped>\n",
              "    .dataframe tbody tr th:only-of-type {\n",
              "        vertical-align: middle;\n",
              "    }\n",
              "\n",
              "    .dataframe tbody tr th {\n",
              "        vertical-align: top;\n",
              "    }\n",
              "\n",
              "    .dataframe thead th {\n",
              "        text-align: right;\n",
              "    }\n",
              "</style>\n",
              "<table border=\"1\" class=\"dataframe\">\n",
              "  <thead>\n",
              "    <tr style=\"text-align: right;\">\n",
              "      <th></th>\n",
              "      <th>Company</th>\n",
              "      <th>TypeName</th>\n",
              "      <th>Inches</th>\n",
              "      <th>ScreenResolution</th>\n",
              "      <th>Cpu</th>\n",
              "      <th>Ram</th>\n",
              "      <th>Memory</th>\n",
              "      <th>Gpu</th>\n",
              "      <th>OpSys</th>\n",
              "      <th>Weight</th>\n",
              "      <th>Price</th>\n",
              "      <th>Touchscreen</th>\n",
              "      <th>Ips</th>\n",
              "      <th>x_res</th>\n",
              "      <th>y_res</th>\n",
              "    </tr>\n",
              "  </thead>\n",
              "  <tbody>\n",
              "    <tr>\n",
              "      <th>0</th>\n",
              "      <td>Apple</td>\n",
              "      <td>Ultrabook</td>\n",
              "      <td>13.3</td>\n",
              "      <td>IPS Panel Retina Display 2560x1600</td>\n",
              "      <td>Intel Core i5 2.3GHz</td>\n",
              "      <td>8</td>\n",
              "      <td>128GB SSD</td>\n",
              "      <td>Intel Iris Plus Graphics 640</td>\n",
              "      <td>macOS</td>\n",
              "      <td>1.37</td>\n",
              "      <td>71378.6832</td>\n",
              "      <td>0</td>\n",
              "      <td>1</td>\n",
              "      <td>2560</td>\n",
              "      <td>1600</td>\n",
              "    </tr>\n",
              "    <tr>\n",
              "      <th>1</th>\n",
              "      <td>Apple</td>\n",
              "      <td>Ultrabook</td>\n",
              "      <td>13.3</td>\n",
              "      <td>1440x900</td>\n",
              "      <td>Intel Core i5 1.8GHz</td>\n",
              "      <td>8</td>\n",
              "      <td>128GB Flash Storage</td>\n",
              "      <td>Intel HD Graphics 6000</td>\n",
              "      <td>macOS</td>\n",
              "      <td>1.34</td>\n",
              "      <td>47895.5232</td>\n",
              "      <td>0</td>\n",
              "      <td>0</td>\n",
              "      <td>1440</td>\n",
              "      <td>900</td>\n",
              "    </tr>\n",
              "    <tr>\n",
              "      <th>2</th>\n",
              "      <td>HP</td>\n",
              "      <td>Notebook</td>\n",
              "      <td>15.6</td>\n",
              "      <td>Full HD 1920x1080</td>\n",
              "      <td>Intel Core i5 7200U 2.5GHz</td>\n",
              "      <td>8</td>\n",
              "      <td>256GB SSD</td>\n",
              "      <td>Intel HD Graphics 620</td>\n",
              "      <td>No OS</td>\n",
              "      <td>1.86</td>\n",
              "      <td>30636.0000</td>\n",
              "      <td>0</td>\n",
              "      <td>0</td>\n",
              "      <td>1920</td>\n",
              "      <td>1080</td>\n",
              "    </tr>\n",
              "    <tr>\n",
              "      <th>3</th>\n",
              "      <td>Apple</td>\n",
              "      <td>Ultrabook</td>\n",
              "      <td>15.4</td>\n",
              "      <td>IPS Panel Retina Display 2880x1800</td>\n",
              "      <td>Intel Core i7 2.7GHz</td>\n",
              "      <td>16</td>\n",
              "      <td>512GB SSD</td>\n",
              "      <td>AMD Radeon Pro 455</td>\n",
              "      <td>macOS</td>\n",
              "      <td>1.83</td>\n",
              "      <td>135195.3360</td>\n",
              "      <td>0</td>\n",
              "      <td>1</td>\n",
              "      <td>2880</td>\n",
              "      <td>1800</td>\n",
              "    </tr>\n",
              "    <tr>\n",
              "      <th>4</th>\n",
              "      <td>Apple</td>\n",
              "      <td>Ultrabook</td>\n",
              "      <td>13.3</td>\n",
              "      <td>IPS Panel Retina Display 2560x1600</td>\n",
              "      <td>Intel Core i5 3.1GHz</td>\n",
              "      <td>8</td>\n",
              "      <td>256GB SSD</td>\n",
              "      <td>Intel Iris Plus Graphics 650</td>\n",
              "      <td>macOS</td>\n",
              "      <td>1.37</td>\n",
              "      <td>96095.8080</td>\n",
              "      <td>0</td>\n",
              "      <td>1</td>\n",
              "      <td>2560</td>\n",
              "      <td>1600</td>\n",
              "    </tr>\n",
              "  </tbody>\n",
              "</table>\n",
              "</div>"
            ],
            "text/plain": [
              "  Company   TypeName  Inches                    ScreenResolution  \\\n",
              "0   Apple  Ultrabook    13.3  IPS Panel Retina Display 2560x1600   \n",
              "1   Apple  Ultrabook    13.3                            1440x900   \n",
              "2      HP   Notebook    15.6                   Full HD 1920x1080   \n",
              "3   Apple  Ultrabook    15.4  IPS Panel Retina Display 2880x1800   \n",
              "4   Apple  Ultrabook    13.3  IPS Panel Retina Display 2560x1600   \n",
              "\n",
              "                          Cpu  Ram               Memory  \\\n",
              "0        Intel Core i5 2.3GHz    8            128GB SSD   \n",
              "1        Intel Core i5 1.8GHz    8  128GB Flash Storage   \n",
              "2  Intel Core i5 7200U 2.5GHz    8            256GB SSD   \n",
              "3        Intel Core i7 2.7GHz   16            512GB SSD   \n",
              "4        Intel Core i5 3.1GHz    8            256GB SSD   \n",
              "\n",
              "                            Gpu  OpSys  Weight        Price  Touchscreen  Ips  \\\n",
              "0  Intel Iris Plus Graphics 640  macOS    1.37   71378.6832            0    1   \n",
              "1        Intel HD Graphics 6000  macOS    1.34   47895.5232            0    0   \n",
              "2         Intel HD Graphics 620  No OS    1.86   30636.0000            0    0   \n",
              "3            AMD Radeon Pro 455  macOS    1.83  135195.3360            0    1   \n",
              "4  Intel Iris Plus Graphics 650  macOS    1.37   96095.8080            0    1   \n",
              "\n",
              "  x_res y_res  \n",
              "0  2560  1600  \n",
              "1  1440   900  \n",
              "2  1920  1080  \n",
              "3  2880  1800  \n",
              "4  2560  1600  "
            ]
          },
          "execution_count": 113,
          "metadata": {},
          "output_type": "execute_result"
        }
      ],
      "source": [
        "df.head()"
      ]
    },
    {
      "cell_type": "code",
      "execution_count": null,
      "id": "497156c2-6917-436d-8dd6-286c435cdd5d",
      "metadata": {
        "id": "497156c2-6917-436d-8dd6-286c435cdd5d"
      },
      "outputs": [],
      "source": [
        "df['x_res'] = df['x_res'].astype(int)\n",
        "df['y_res'] = df['y_res'].astype(int)"
      ]
    },
    {
      "cell_type": "code",
      "execution_count": null,
      "id": "9f3590b5-a3cb-4bd5-a94d-591df22a6cbd",
      "metadata": {
        "id": "9f3590b5-a3cb-4bd5-a94d-591df22a6cbd",
        "outputId": "2828d50d-bdbc-4aa7-c1a1-74534a8477c1"
      },
      "outputs": [
        {
          "name": "stderr",
          "output_type": "stream",
          "text": [
            "C:\\Users\\yasha\\AppData\\Local\\Temp\\ipykernel_672\\815546952.py:1: FutureWarning: The default value of numeric_only in DataFrame.corr is deprecated. In a future version, it will default to False. Select only valid columns or specify the value of numeric_only to silence this warning.\n",
            "  df.corr()['Price']\n"
          ]
        },
        {
          "data": {
            "text/plain": [
              "Inches         0.068197\n",
              "Ram            0.743007\n",
              "Weight         0.210370\n",
              "Price          1.000000\n",
              "Touchscreen    0.191226\n",
              "Ips            0.252208\n",
              "x_res          0.556529\n",
              "y_res          0.552809\n",
              "Name: Price, dtype: float64"
            ]
          },
          "execution_count": 115,
          "metadata": {},
          "output_type": "execute_result"
        }
      ],
      "source": [
        "df.corr()['Price']"
      ]
    },
    {
      "cell_type": "markdown",
      "id": "bf59fd96-c0a8-45f7-b8fe-a3fc0898123f",
      "metadata": {
        "id": "bf59fd96-c0a8-45f7-b8fe-a3fc0898123f"
      },
      "source": [
        "* As we can see column 'Inches' does not show any strong relation with 'Price'\n",
        "* x_res and y_res shows strong correlation with price"
      ]
    },
    {
      "cell_type": "markdown",
      "id": "c42bfe3e-5062-4bc1-a52f-87cdef1ef2cf",
      "metadata": {
        "id": "c42bfe3e-5062-4bc1-a52f-87cdef1ef2cf"
      },
      "source": [
        "### Finding Pixle per Price(ppi) --> More ppi more Price\n",
        "* ppi is the square root of square of x_res + square of y_res / Inches\n",
        "* This solves our problem of inches column and how we can use x_res and y_res"
      ]
    },
    {
      "cell_type": "code",
      "execution_count": null,
      "id": "c8ca265b-fa1a-4e9f-8771-0e6b8a5cf203",
      "metadata": {
        "id": "c8ca265b-fa1a-4e9f-8771-0e6b8a5cf203",
        "outputId": "adf19134-7ffc-45ca-b1b9-d9cc1025b062"
      },
      "outputs": [
        {
          "name": "stderr",
          "output_type": "stream",
          "text": [
            "C:\\Users\\yasha\\AppData\\Local\\Temp\\ipykernel_672\\585180628.py:2: FutureWarning: The default value of numeric_only in DataFrame.corr is deprecated. In a future version, it will default to False. Select only valid columns or specify the value of numeric_only to silence this warning.\n",
            "  df.corr()['Price']\n"
          ]
        },
        {
          "data": {
            "text/plain": [
              "Inches         0.068197\n",
              "Ram            0.743007\n",
              "Weight         0.210370\n",
              "Price          1.000000\n",
              "Touchscreen    0.191226\n",
              "Ips            0.252208\n",
              "x_res          0.556529\n",
              "y_res          0.552809\n",
              "ppi            0.473487\n",
              "Name: Price, dtype: float64"
            ]
          },
          "execution_count": 116,
          "metadata": {},
          "output_type": "execute_result"
        }
      ],
      "source": [
        "df['ppi'] = np.sqrt(df['x_res']**2 + df['y_res']**2) / df['Inches'].astype('float')\n",
        "df.corr()['Price']"
      ]
    },
    {
      "cell_type": "markdown",
      "id": "aa74efa2-80fe-4b2e-885a-b05fe0770481",
      "metadata": {
        "id": "aa74efa2-80fe-4b2e-885a-b05fe0770481"
      },
      "source": [
        "* PPI is showing strong correlation with Price column\n",
        "\n",
        "* Since we have extracted all the information from Screnn resolution column, we can drop it, along with Inches, x_res, y_res"
      ]
    },
    {
      "cell_type": "code",
      "execution_count": null,
      "id": "7a90f9b4-483b-4539-b21f-93d00dcb2cf0",
      "metadata": {
        "id": "7a90f9b4-483b-4539-b21f-93d00dcb2cf0"
      },
      "outputs": [],
      "source": [
        "df = df.drop(columns = ['ScreenResolution','Inches','x_res','y_res'], axis = 1)"
      ]
    },
    {
      "cell_type": "code",
      "execution_count": null,
      "id": "9956d964-1536-4977-a050-ab10fc0f15bd",
      "metadata": {
        "id": "9956d964-1536-4977-a050-ab10fc0f15bd",
        "outputId": "4ad56a2d-3eb4-45a6-8f6c-5538f79a1016"
      },
      "outputs": [
        {
          "data": {
            "text/html": [
              "<div>\n",
              "<style scoped>\n",
              "    .dataframe tbody tr th:only-of-type {\n",
              "        vertical-align: middle;\n",
              "    }\n",
              "\n",
              "    .dataframe tbody tr th {\n",
              "        vertical-align: top;\n",
              "    }\n",
              "\n",
              "    .dataframe thead th {\n",
              "        text-align: right;\n",
              "    }\n",
              "</style>\n",
              "<table border=\"1\" class=\"dataframe\">\n",
              "  <thead>\n",
              "    <tr style=\"text-align: right;\">\n",
              "      <th></th>\n",
              "      <th>Company</th>\n",
              "      <th>TypeName</th>\n",
              "      <th>Cpu</th>\n",
              "      <th>Ram</th>\n",
              "      <th>Memory</th>\n",
              "      <th>Gpu</th>\n",
              "      <th>OpSys</th>\n",
              "      <th>Weight</th>\n",
              "      <th>Price</th>\n",
              "      <th>Touchscreen</th>\n",
              "      <th>Ips</th>\n",
              "      <th>ppi</th>\n",
              "    </tr>\n",
              "  </thead>\n",
              "  <tbody>\n",
              "    <tr>\n",
              "      <th>0</th>\n",
              "      <td>Apple</td>\n",
              "      <td>Ultrabook</td>\n",
              "      <td>Intel Core i5 2.3GHz</td>\n",
              "      <td>8</td>\n",
              "      <td>128GB SSD</td>\n",
              "      <td>Intel Iris Plus Graphics 640</td>\n",
              "      <td>macOS</td>\n",
              "      <td>1.37</td>\n",
              "      <td>71378.6832</td>\n",
              "      <td>0</td>\n",
              "      <td>1</td>\n",
              "      <td>226.983005</td>\n",
              "    </tr>\n",
              "    <tr>\n",
              "      <th>1</th>\n",
              "      <td>Apple</td>\n",
              "      <td>Ultrabook</td>\n",
              "      <td>Intel Core i5 1.8GHz</td>\n",
              "      <td>8</td>\n",
              "      <td>128GB Flash Storage</td>\n",
              "      <td>Intel HD Graphics 6000</td>\n",
              "      <td>macOS</td>\n",
              "      <td>1.34</td>\n",
              "      <td>47895.5232</td>\n",
              "      <td>0</td>\n",
              "      <td>0</td>\n",
              "      <td>127.677940</td>\n",
              "    </tr>\n",
              "    <tr>\n",
              "      <th>2</th>\n",
              "      <td>HP</td>\n",
              "      <td>Notebook</td>\n",
              "      <td>Intel Core i5 7200U 2.5GHz</td>\n",
              "      <td>8</td>\n",
              "      <td>256GB SSD</td>\n",
              "      <td>Intel HD Graphics 620</td>\n",
              "      <td>No OS</td>\n",
              "      <td>1.86</td>\n",
              "      <td>30636.0000</td>\n",
              "      <td>0</td>\n",
              "      <td>0</td>\n",
              "      <td>141.211998</td>\n",
              "    </tr>\n",
              "    <tr>\n",
              "      <th>3</th>\n",
              "      <td>Apple</td>\n",
              "      <td>Ultrabook</td>\n",
              "      <td>Intel Core i7 2.7GHz</td>\n",
              "      <td>16</td>\n",
              "      <td>512GB SSD</td>\n",
              "      <td>AMD Radeon Pro 455</td>\n",
              "      <td>macOS</td>\n",
              "      <td>1.83</td>\n",
              "      <td>135195.3360</td>\n",
              "      <td>0</td>\n",
              "      <td>1</td>\n",
              "      <td>220.534624</td>\n",
              "    </tr>\n",
              "    <tr>\n",
              "      <th>4</th>\n",
              "      <td>Apple</td>\n",
              "      <td>Ultrabook</td>\n",
              "      <td>Intel Core i5 3.1GHz</td>\n",
              "      <td>8</td>\n",
              "      <td>256GB SSD</td>\n",
              "      <td>Intel Iris Plus Graphics 650</td>\n",
              "      <td>macOS</td>\n",
              "      <td>1.37</td>\n",
              "      <td>96095.8080</td>\n",
              "      <td>0</td>\n",
              "      <td>1</td>\n",
              "      <td>226.983005</td>\n",
              "    </tr>\n",
              "  </tbody>\n",
              "</table>\n",
              "</div>"
            ],
            "text/plain": [
              "  Company   TypeName                         Cpu  Ram               Memory  \\\n",
              "0   Apple  Ultrabook        Intel Core i5 2.3GHz    8            128GB SSD   \n",
              "1   Apple  Ultrabook        Intel Core i5 1.8GHz    8  128GB Flash Storage   \n",
              "2      HP   Notebook  Intel Core i5 7200U 2.5GHz    8            256GB SSD   \n",
              "3   Apple  Ultrabook        Intel Core i7 2.7GHz   16            512GB SSD   \n",
              "4   Apple  Ultrabook        Intel Core i5 3.1GHz    8            256GB SSD   \n",
              "\n",
              "                            Gpu  OpSys  Weight        Price  Touchscreen  Ips  \\\n",
              "0  Intel Iris Plus Graphics 640  macOS    1.37   71378.6832            0    1   \n",
              "1        Intel HD Graphics 6000  macOS    1.34   47895.5232            0    0   \n",
              "2         Intel HD Graphics 620  No OS    1.86   30636.0000            0    0   \n",
              "3            AMD Radeon Pro 455  macOS    1.83  135195.3360            0    1   \n",
              "4  Intel Iris Plus Graphics 650  macOS    1.37   96095.8080            0    1   \n",
              "\n",
              "          ppi  \n",
              "0  226.983005  \n",
              "1  127.677940  \n",
              "2  141.211998  \n",
              "3  220.534624  \n",
              "4  226.983005  "
            ]
          },
          "execution_count": 118,
          "metadata": {},
          "output_type": "execute_result"
        }
      ],
      "source": [
        "df.head()"
      ]
    },
    {
      "cell_type": "markdown",
      "id": "c025f312-6427-4343-8d7d-ad4249b8146f",
      "metadata": {
        "id": "c025f312-6427-4343-8d7d-ad4249b8146f"
      },
      "source": [
        "### Feature Extraction and analysis of 'Cpu' column"
      ]
    },
    {
      "cell_type": "code",
      "execution_count": null,
      "id": "c6e97bfc-b809-4b07-8e55-5796123dbcdd",
      "metadata": {
        "id": "c6e97bfc-b809-4b07-8e55-5796123dbcdd",
        "outputId": "13096671-719a-4b97-dda4-fdcce2d47e9d"
      },
      "outputs": [
        {
          "data": {
            "text/plain": [
              "Intel Core i5 7200U 2.5GHz               190\n",
              "Intel Core i7 7700HQ 2.8GHz              146\n",
              "Intel Core i7 7500U 2.7GHz               134\n",
              "Intel Core i7 8550U 1.8GHz                73\n",
              "Intel Core i5 8250U 1.6GHz                72\n",
              "Intel Core i5 6200U 2.3GHz                68\n",
              "Intel Core i3 6006U 2GHz                  64\n",
              "Intel Core i7 6500U 2.5GHz                49\n",
              "Intel Core i7 6700HQ 2.6GHz               43\n",
              "Intel Core i3 7100U 2.4GHz                37\n",
              "Intel Core i5 7300HQ 2.5GHz               33\n",
              "Intel Celeron Dual Core N3350 1.1GHz      30\n",
              "Intel Celeron Dual Core N3060 1.6GHz      28\n",
              "Intel Core i7 6600U 2.6GHz                18\n",
              "Intel Core i3 6006U 2.0GHz                16\n",
              "Intel Pentium Quad Core N4200 1.1GHz      14\n",
              "Intel Core i5 7300U 2.6GHz                14\n",
              "Intel Core i7 7600U 2.8GHz                13\n",
              "Intel Pentium Quad Core N3710 1.6GHz      11\n",
              "AMD A9-Series 9420 3GHz                   11\n",
              "Intel Core i5 6300U 2.4GHz                11\n",
              "Intel Celeron Dual Core N3050 1.6GHz      11\n",
              "Intel Core i7 6820HK 2.7GHz               10\n",
              "Intel Core i3 6100U 2.3GHz                 9\n",
              "Intel Core i3 7130U 2.7GHz                 8\n",
              "Intel Core i7 6820HQ 2.7GHz                7\n",
              "Intel Core i5 6300HQ 2.3GHz                7\n",
              "Intel Core i7 7820HK 2.9GHz                7\n",
              "AMD A6-Series 9220 2.5GHz                  7\n",
              "Intel Core i7 7820HQ 2.9GHz                5\n",
              "Intel Core M 6Y75 1.2GHz                   5\n",
              "Intel Atom x5-Z8350 1.44GHz                5\n",
              "AMD A12-Series 9720P 3.6GHz                5\n",
              "Intel Celeron Quad Core N3450 1.1GHz       5\n",
              "Intel Core i7 7Y75 1.3GHz                  5\n",
              "Intel Core i5 7440HQ 2.8GHz                5\n",
              "AMD A8-Series 7410 2.2GHz                  4\n",
              "Intel Celeron Dual Core 3205U 1.5GHz       4\n",
              "Intel Atom x5-Z8550 1.44GHz                4\n",
              "Intel Celeron Dual Core 3855U 1.6GHz       3\n",
              "Intel Core i7 7660U 2.5GHz                 3\n",
              "Intel Core M 6Y30 0.9GHz                   3\n",
              "AMD A9-Series 9410 2.9GHz                  3\n",
              "AMD Ryzen 1700 3GHz                        3\n",
              "Intel Core i5 1.6GHz                       3\n",
              "Intel Core i5 7Y54 1.2GHz                  3\n",
              "Intel Core i7 8650U 1.9GHz                 2\n",
              "Intel Core i5 7Y57 1.2GHz                  2\n",
              "AMD E-Series E2-9000e 1.5GHz               2\n",
              "AMD A10-Series 9620P 2.5GHz                2\n",
              "AMD E-Series 7110 1.8GHz                   2\n",
              "AMD A9-Series A9-9420 3GHz                 2\n",
              "Intel Xeon E3-1505M V6 3GHz                2\n",
              "Intel Core i5 3.1GHz                       2\n",
              "Intel Core M 1.2GHz                        2\n",
              "Intel Atom X5-Z8350 1.44GHz                2\n",
              "Intel Core M 1.1GHz                        2\n",
              "Intel Pentium Quad Core N3700 1.6GHz       2\n",
              "Intel Core i7 6500U 2.50GHz                2\n",
              "Intel Celeron Dual Core N3350 2GHz         2\n",
              "Intel Celeron Quad Core N3160 1.6GHz       2\n",
              "Intel Core i5 2.3GHz                       2\n",
              "Intel Core i7 7560U 2.4GHz                 2\n",
              "Intel Core i5 1.8GHz                       2\n",
              "AMD A10-Series A10-9620P 2.5GHz            2\n",
              "AMD A10-Series 9600P 2.4GHz                2\n",
              "AMD A12-Series 9720P 2.7GHz                2\n",
              "AMD A6-Series A6-9220 2.5GHz               2\n",
              "Intel Celeron Dual Core N3060 1.60GHz      1\n",
              "AMD A4-Series 7210 2.2GHz                  1\n",
              "AMD FX 8800P 2.1GHz                        1\n",
              "Intel Core M m7-6Y75 1.2GHz                1\n",
              "Intel Core i7 6560U 2.2GHz                 1\n",
              "Intel Pentium Dual Core 4405U 2.1GHz       1\n",
              "Intel Core i7 7500U 2.5GHz                 1\n",
              "AMD A12-Series 9700P 2.5GHz                1\n",
              "AMD A6-Series 9220 2.9GHz                  1\n",
              "Intel Celeron Quad Core N3710 1.6GHz       1\n",
              "Intel Core M M7-6Y75 1.2GHz                1\n",
              "Intel Core i7 6920HQ 2.9GHz                1\n",
              "Intel Core i5 7200U 2.50GHz                1\n",
              "Intel Core i5 7200U 2.70GHz                1\n",
              "Intel Core i5 6260U 1.8GHz                 1\n",
              "Intel Core i5 7200U 2.7GHz                 1\n",
              "Intel Core i5 2.9GHz                       1\n",
              "Intel Pentium Dual Core 4405Y 1.5GHz       1\n",
              "Intel Core M 6Y54 1.1GHz                   1\n",
              "AMD E-Series 9000e 1.5GHz                  1\n",
              "Samsung Cortex A72&A53 2.0GHz              1\n",
              "AMD E-Series 9000 2.2GHz                   1\n",
              "Intel Core i7 2.7GHz                       1\n",
              "Intel Pentium Dual Core N4200 1.1GHz       1\n",
              "Intel Atom Z8350 1.92GHz                   1\n",
              "Intel Xeon E3-1535M v5 2.9GHz              1\n",
              "AMD E-Series 6110 1.5GHz                   1\n",
              "AMD E-Series E2-6110 1.5GHz                1\n",
              "AMD Ryzen 1600 3.2GHz                      1\n",
              "Intel Atom x5-Z8300 1.44GHz                1\n",
              "Intel Core i5 2.0GHz                       1\n",
              "Intel Core i7 7700HQ 2.7GHz                1\n",
              "Intel Core M m3-7Y30 2.2GHz                1\n",
              "Intel Core i5 1.3GHz                       1\n",
              "Intel Core i7 2.9GHz                       1\n",
              "AMD FX 9830P 3GHz                          1\n",
              "Intel Celeron Dual Core N3350 2.0GHz       1\n",
              "Intel Core M m3 1.2GHz                     1\n",
              "Intel Core i5 6440HQ 2.6GHz                1\n",
              "Intel Core M 7Y30 1.0GHz                   1\n",
              "Intel Core i5 7500U 2.7GHz                 1\n",
              "Intel Core i7 2.8GHz                       1\n",
              "Intel Core i3 6100U 2.1GHz                 1\n",
              "AMD E-Series E2-9000 2.2GHz                1\n",
              "Intel Core i7 2.2GHz                       1\n",
              "Intel Core M M3-6Y30 0.9GHz                1\n",
              "AMD A9-Series 9420 2.9GHz                  1\n",
              "Intel Core i3 6006U 2.2GHz                 1\n",
              "AMD A6-Series 7310 2GHz                    1\n",
              "Intel Xeon E3-1535M v6 3.1GHz              1\n",
              "Name: Cpu, dtype: int64"
            ]
          },
          "execution_count": 119,
          "metadata": {},
          "output_type": "execute_result"
        }
      ],
      "source": [
        "df['Cpu'].value_counts()"
      ]
    },
    {
      "cell_type": "markdown",
      "id": "1e83dd81-542d-416a-b724-d073a01a84f7",
      "metadata": {
        "id": "1e83dd81-542d-416a-b724-d073a01a84f7"
      },
      "source": [
        "* There are lot of variation in the data.\n",
        "* These many categories will create problems when building model and will also impact on r2 score\n",
        "* Reducing the categories and then checking for correlation"
      ]
    },
    {
      "cell_type": "code",
      "execution_count": null,
      "id": "62f1ebe8-2471-4643-84b5-9315af7395ad",
      "metadata": {
        "id": "62f1ebe8-2471-4643-84b5-9315af7395ad"
      },
      "outputs": [],
      "source": [
        "df['cpu name']=df['Cpu'].apply(lambda x:' '.join(x.split()[0:3]))"
      ]
    },
    {
      "cell_type": "code",
      "execution_count": null,
      "id": "643b34b9-8ba5-4f10-9904-434202d04e6b",
      "metadata": {
        "id": "643b34b9-8ba5-4f10-9904-434202d04e6b"
      },
      "outputs": [],
      "source": [
        "def fetch_processor(text):\n",
        "    if text == 'Intel Core i5' or text == 'Intel Core i7' or text == 'Intel Core i3':\n",
        "        return text\n",
        "    else:\n",
        "        if text.split()[0] == 'Intel':\n",
        "            return 'Other Intel Processor'\n",
        "        else:\n",
        "            return 'AMD Processor'\n",
        ""
      ]
    },
    {
      "cell_type": "code",
      "execution_count": null,
      "id": "f698dbae-5abd-4060-b152-7c6c25524390",
      "metadata": {
        "id": "f698dbae-5abd-4060-b152-7c6c25524390",
        "outputId": "42922c5b-a083-4759-c0b8-2d8585db2d17"
      },
      "outputs": [
        {
          "data": {
            "text/html": [
              "<div>\n",
              "<style scoped>\n",
              "    .dataframe tbody tr th:only-of-type {\n",
              "        vertical-align: middle;\n",
              "    }\n",
              "\n",
              "    .dataframe tbody tr th {\n",
              "        vertical-align: top;\n",
              "    }\n",
              "\n",
              "    .dataframe thead th {\n",
              "        text-align: right;\n",
              "    }\n",
              "</style>\n",
              "<table border=\"1\" class=\"dataframe\">\n",
              "  <thead>\n",
              "    <tr style=\"text-align: right;\">\n",
              "      <th></th>\n",
              "      <th>Company</th>\n",
              "      <th>TypeName</th>\n",
              "      <th>Cpu</th>\n",
              "      <th>Ram</th>\n",
              "      <th>Memory</th>\n",
              "      <th>Gpu</th>\n",
              "      <th>OpSys</th>\n",
              "      <th>Weight</th>\n",
              "      <th>Price</th>\n",
              "      <th>Touchscreen</th>\n",
              "      <th>Ips</th>\n",
              "      <th>ppi</th>\n",
              "      <th>cpu name</th>\n",
              "    </tr>\n",
              "  </thead>\n",
              "  <tbody>\n",
              "    <tr>\n",
              "      <th>0</th>\n",
              "      <td>Apple</td>\n",
              "      <td>Ultrabook</td>\n",
              "      <td>Intel Core i5 2.3GHz</td>\n",
              "      <td>8</td>\n",
              "      <td>128GB SSD</td>\n",
              "      <td>Intel Iris Plus Graphics 640</td>\n",
              "      <td>macOS</td>\n",
              "      <td>1.37</td>\n",
              "      <td>71378.6832</td>\n",
              "      <td>0</td>\n",
              "      <td>1</td>\n",
              "      <td>226.983005</td>\n",
              "      <td>Intel Core i5</td>\n",
              "    </tr>\n",
              "    <tr>\n",
              "      <th>1</th>\n",
              "      <td>Apple</td>\n",
              "      <td>Ultrabook</td>\n",
              "      <td>Intel Core i5 1.8GHz</td>\n",
              "      <td>8</td>\n",
              "      <td>128GB Flash Storage</td>\n",
              "      <td>Intel HD Graphics 6000</td>\n",
              "      <td>macOS</td>\n",
              "      <td>1.34</td>\n",
              "      <td>47895.5232</td>\n",
              "      <td>0</td>\n",
              "      <td>0</td>\n",
              "      <td>127.677940</td>\n",
              "      <td>Intel Core i5</td>\n",
              "    </tr>\n",
              "    <tr>\n",
              "      <th>2</th>\n",
              "      <td>HP</td>\n",
              "      <td>Notebook</td>\n",
              "      <td>Intel Core i5 7200U 2.5GHz</td>\n",
              "      <td>8</td>\n",
              "      <td>256GB SSD</td>\n",
              "      <td>Intel HD Graphics 620</td>\n",
              "      <td>No OS</td>\n",
              "      <td>1.86</td>\n",
              "      <td>30636.0000</td>\n",
              "      <td>0</td>\n",
              "      <td>0</td>\n",
              "      <td>141.211998</td>\n",
              "      <td>Intel Core i5</td>\n",
              "    </tr>\n",
              "    <tr>\n",
              "      <th>3</th>\n",
              "      <td>Apple</td>\n",
              "      <td>Ultrabook</td>\n",
              "      <td>Intel Core i7 2.7GHz</td>\n",
              "      <td>16</td>\n",
              "      <td>512GB SSD</td>\n",
              "      <td>AMD Radeon Pro 455</td>\n",
              "      <td>macOS</td>\n",
              "      <td>1.83</td>\n",
              "      <td>135195.3360</td>\n",
              "      <td>0</td>\n",
              "      <td>1</td>\n",
              "      <td>220.534624</td>\n",
              "      <td>Intel Core i7</td>\n",
              "    </tr>\n",
              "    <tr>\n",
              "      <th>4</th>\n",
              "      <td>Apple</td>\n",
              "      <td>Ultrabook</td>\n",
              "      <td>Intel Core i5 3.1GHz</td>\n",
              "      <td>8</td>\n",
              "      <td>256GB SSD</td>\n",
              "      <td>Intel Iris Plus Graphics 650</td>\n",
              "      <td>macOS</td>\n",
              "      <td>1.37</td>\n",
              "      <td>96095.8080</td>\n",
              "      <td>0</td>\n",
              "      <td>1</td>\n",
              "      <td>226.983005</td>\n",
              "      <td>Intel Core i5</td>\n",
              "    </tr>\n",
              "  </tbody>\n",
              "</table>\n",
              "</div>"
            ],
            "text/plain": [
              "  Company   TypeName                         Cpu  Ram               Memory  \\\n",
              "0   Apple  Ultrabook        Intel Core i5 2.3GHz    8            128GB SSD   \n",
              "1   Apple  Ultrabook        Intel Core i5 1.8GHz    8  128GB Flash Storage   \n",
              "2      HP   Notebook  Intel Core i5 7200U 2.5GHz    8            256GB SSD   \n",
              "3   Apple  Ultrabook        Intel Core i7 2.7GHz   16            512GB SSD   \n",
              "4   Apple  Ultrabook        Intel Core i5 3.1GHz    8            256GB SSD   \n",
              "\n",
              "                            Gpu  OpSys  Weight        Price  Touchscreen  Ips  \\\n",
              "0  Intel Iris Plus Graphics 640  macOS    1.37   71378.6832            0    1   \n",
              "1        Intel HD Graphics 6000  macOS    1.34   47895.5232            0    0   \n",
              "2         Intel HD Graphics 620  No OS    1.86   30636.0000            0    0   \n",
              "3            AMD Radeon Pro 455  macOS    1.83  135195.3360            0    1   \n",
              "4  Intel Iris Plus Graphics 650  macOS    1.37   96095.8080            0    1   \n",
              "\n",
              "          ppi       cpu name  \n",
              "0  226.983005  Intel Core i5  \n",
              "1  127.677940  Intel Core i5  \n",
              "2  141.211998  Intel Core i5  \n",
              "3  220.534624  Intel Core i7  \n",
              "4  226.983005  Intel Core i5  "
            ]
          },
          "execution_count": 122,
          "metadata": {},
          "output_type": "execute_result"
        }
      ],
      "source": [
        "df.head()"
      ]
    },
    {
      "cell_type": "code",
      "execution_count": null,
      "id": "f74dc8f0-5cdd-4a97-92e0-40f5cf2600ff",
      "metadata": {
        "id": "f74dc8f0-5cdd-4a97-92e0-40f5cf2600ff"
      },
      "outputs": [],
      "source": [
        "df['Processor'] = df['cpu name'].apply(fetch_processor)"
      ]
    },
    {
      "cell_type": "code",
      "execution_count": null,
      "id": "fb09ab2f-c8e4-4fbc-9e60-e8264f53f937",
      "metadata": {
        "id": "fb09ab2f-c8e4-4fbc-9e60-e8264f53f937",
        "outputId": "1912fdf7-de20-452e-aea3-b3f3eba1acc1"
      },
      "outputs": [
        {
          "data": {
            "text/plain": [
              "<Axes: >"
            ]
          },
          "execution_count": 124,
          "metadata": {},
          "output_type": "execute_result"
        },
        {
          "data": {
            "image/png": "[encoded data removed]",
            "text/plain": [
              "<Figure size 640x480 with 1 Axes>"
            ]
          },
          "metadata": {},
          "output_type": "display_data"
        }
      ],
      "source": [
        "df['Processor'].value_counts().plot(kind = 'bar')"
      ]
    },
    {
      "cell_type": "code",
      "execution_count": null,
      "id": "61e46eff-5b38-4578-b83d-5a2675e74333",
      "metadata": {
        "id": "61e46eff-5b38-4578-b83d-5a2675e74333",
        "outputId": "2955999d-6097-4db8-8bbc-0bbbc0463c89"
      },
      "outputs": [
        {
          "data": {
            "image/png": "[encoded data removed]",
            "text/plain": [
              "<Figure size 640x480 with 1 Axes>"
            ]
          },
          "metadata": {},
          "output_type": "display_data"
        }
      ],
      "source": [
        "sns.barplot(x = df['Processor'], y = df['Price']);\n",
        "plt.xticks(rotation = 'vertical')\n",
        "plt.show()"
      ]
    },
    {
      "cell_type": "markdown",
      "id": "38f3dc52-bac6-4cb1-acb2-555b04356d2e",
      "metadata": {
        "id": "38f3dc52-bac6-4cb1-acb2-555b04356d2e"
      },
      "source": [
        "* As expected most of laptops sold are intel core i7\n",
        "* when checked correlation with price, we can see that there is some relation\n",
        "* Intel core i7 has the highest price while AMD, Intel core i3 and Other intel processors have the almost the same price range\n",
        "\n",
        "* since we have extracted all the information from cpu and cpu name column, we will drop them."
      ]
    },
    {
      "cell_type": "code",
      "execution_count": null,
      "id": "31f0d3aa-ac4a-472b-870d-4e745b30c218",
      "metadata": {
        "id": "31f0d3aa-ac4a-472b-870d-4e745b30c218"
      },
      "outputs": [],
      "source": [
        "df = df.drop(columns = ['cpu name','Cpu'], axis = 1)"
      ]
    },
    {
      "cell_type": "code",
      "execution_count": null,
      "id": "c1694721-2f16-4d8e-94f2-22f84a2a8afb",
      "metadata": {
        "id": "c1694721-2f16-4d8e-94f2-22f84a2a8afb",
        "outputId": "511df407-550a-4ac2-de92-bcc5d9d699c4"
      },
      "outputs": [
        {
          "data": {
            "text/html": [
              "<div>\n",
              "<style scoped>\n",
              "    .dataframe tbody tr th:only-of-type {\n",
              "        vertical-align: middle;\n",
              "    }\n",
              "\n",
              "    .dataframe tbody tr th {\n",
              "        vertical-align: top;\n",
              "    }\n",
              "\n",
              "    .dataframe thead th {\n",
              "        text-align: right;\n",
              "    }\n",
              "</style>\n",
              "<table border=\"1\" class=\"dataframe\">\n",
              "  <thead>\n",
              "    <tr style=\"text-align: right;\">\n",
              "      <th></th>\n",
              "      <th>Company</th>\n",
              "      <th>TypeName</th>\n",
              "      <th>Ram</th>\n",
              "      <th>Memory</th>\n",
              "      <th>Gpu</th>\n",
              "      <th>OpSys</th>\n",
              "      <th>Weight</th>\n",
              "      <th>Price</th>\n",
              "      <th>Touchscreen</th>\n",
              "      <th>Ips</th>\n",
              "      <th>ppi</th>\n",
              "      <th>Processor</th>\n",
              "    </tr>\n",
              "  </thead>\n",
              "  <tbody>\n",
              "    <tr>\n",
              "      <th>0</th>\n",
              "      <td>Apple</td>\n",
              "      <td>Ultrabook</td>\n",
              "      <td>8</td>\n",
              "      <td>128GB SSD</td>\n",
              "      <td>Intel Iris Plus Graphics 640</td>\n",
              "      <td>macOS</td>\n",
              "      <td>1.37</td>\n",
              "      <td>71378.6832</td>\n",
              "      <td>0</td>\n",
              "      <td>1</td>\n",
              "      <td>226.983005</td>\n",
              "      <td>Intel Core i5</td>\n",
              "    </tr>\n",
              "    <tr>\n",
              "      <th>1</th>\n",
              "      <td>Apple</td>\n",
              "      <td>Ultrabook</td>\n",
              "      <td>8</td>\n",
              "      <td>128GB Flash Storage</td>\n",
              "      <td>Intel HD Graphics 6000</td>\n",
              "      <td>macOS</td>\n",
              "      <td>1.34</td>\n",
              "      <td>47895.5232</td>\n",
              "      <td>0</td>\n",
              "      <td>0</td>\n",
              "      <td>127.677940</td>\n",
              "      <td>Intel Core i5</td>\n",
              "    </tr>\n",
              "    <tr>\n",
              "      <th>2</th>\n",
              "      <td>HP</td>\n",
              "      <td>Notebook</td>\n",
              "      <td>8</td>\n",
              "      <td>256GB SSD</td>\n",
              "      <td>Intel HD Graphics 620</td>\n",
              "      <td>No OS</td>\n",
              "      <td>1.86</td>\n",
              "      <td>30636.0000</td>\n",
              "      <td>0</td>\n",
              "      <td>0</td>\n",
              "      <td>141.211998</td>\n",
              "      <td>Intel Core i5</td>\n",
              "    </tr>\n",
              "    <tr>\n",
              "      <th>3</th>\n",
              "      <td>Apple</td>\n",
              "      <td>Ultrabook</td>\n",
              "      <td>16</td>\n",
              "      <td>512GB SSD</td>\n",
              "      <td>AMD Radeon Pro 455</td>\n",
              "      <td>macOS</td>\n",
              "      <td>1.83</td>\n",
              "      <td>135195.3360</td>\n",
              "      <td>0</td>\n",
              "      <td>1</td>\n",
              "      <td>220.534624</td>\n",
              "      <td>Intel Core i7</td>\n",
              "    </tr>\n",
              "    <tr>\n",
              "      <th>4</th>\n",
              "      <td>Apple</td>\n",
              "      <td>Ultrabook</td>\n",
              "      <td>8</td>\n",
              "      <td>256GB SSD</td>\n",
              "      <td>Intel Iris Plus Graphics 650</td>\n",
              "      <td>macOS</td>\n",
              "      <td>1.37</td>\n",
              "      <td>96095.8080</td>\n",
              "      <td>0</td>\n",
              "      <td>1</td>\n",
              "      <td>226.983005</td>\n",
              "      <td>Intel Core i5</td>\n",
              "    </tr>\n",
              "  </tbody>\n",
              "</table>\n",
              "</div>"
            ],
            "text/plain": [
              "  Company   TypeName  Ram               Memory                           Gpu  \\\n",
              "0   Apple  Ultrabook    8            128GB SSD  Intel Iris Plus Graphics 640   \n",
              "1   Apple  Ultrabook    8  128GB Flash Storage        Intel HD Graphics 6000   \n",
              "2      HP   Notebook    8            256GB SSD         Intel HD Graphics 620   \n",
              "3   Apple  Ultrabook   16            512GB SSD            AMD Radeon Pro 455   \n",
              "4   Apple  Ultrabook    8            256GB SSD  Intel Iris Plus Graphics 650   \n",
              "\n",
              "   OpSys  Weight        Price  Touchscreen  Ips         ppi      Processor  \n",
              "0  macOS    1.37   71378.6832            0    1  226.983005  Intel Core i5  \n",
              "1  macOS    1.34   47895.5232            0    0  127.677940  Intel Core i5  \n",
              "2  No OS    1.86   30636.0000            0    0  141.211998  Intel Core i5  \n",
              "3  macOS    1.83  135195.3360            0    1  220.534624  Intel Core i7  \n",
              "4  macOS    1.37   96095.8080            0    1  226.983005  Intel Core i5  "
            ]
          },
          "execution_count": 127,
          "metadata": {},
          "output_type": "execute_result"
        }
      ],
      "source": [
        "df.head()"
      ]
    },
    {
      "cell_type": "markdown",
      "id": "e4ad4c2e-dcf7-44aa-831e-49af699579a2",
      "metadata": {
        "id": "e4ad4c2e-dcf7-44aa-831e-49af699579a2"
      },
      "source": [
        "#### Analysisng RAM column"
      ]
    },
    {
      "cell_type": "code",
      "execution_count": null,
      "id": "d4ed0cd8-1d92-49eb-9ffc-98e5adcef5ba",
      "metadata": {
        "id": "d4ed0cd8-1d92-49eb-9ffc-98e5adcef5ba",
        "outputId": "7a464f7c-fc14-4e37-cdeb-f19b8fb1a0af"
      },
      "outputs": [
        {
          "data": {
            "text/plain": [
              "<Axes: >"
            ]
          },
          "execution_count": 128,
          "metadata": {},
          "output_type": "execute_result"
        },
        {
          "data": {
            "image/png": "[encoded data removed]",
            "text/plain": [
              "<Figure size 640x480 with 1 Axes>"
            ]
          },
          "metadata": {},
          "output_type": "display_data"
        }
      ],
      "source": [
        "df['Ram'].value_counts().plot(kind ='bar')"
      ]
    },
    {
      "cell_type": "code",
      "execution_count": null,
      "id": "e22dea64-4f46-4174-8fc3-4f969d9f274a",
      "metadata": {
        "id": "e22dea64-4f46-4174-8fc3-4f969d9f274a",
        "outputId": "5d4e3bac-8337-425f-bdfc-005febb0d29b"
      },
      "outputs": [
        {
          "data": {
            "image/png": "[encoded data removed]",
            "text/plain": [
              "<Figure size 640x480 with 1 Axes>"
            ]
          },
          "metadata": {},
          "output_type": "display_data"
        }
      ],
      "source": [
        "sns.barplot(x = df['Ram'], y = df['Price']);\n",
        "plt.xticks(rotation = 'vertical')\n",
        "plt.show()"
      ]
    },
    {
      "cell_type": "markdown",
      "id": "34f71820-fb39-473e-8221-1f2bd7001492",
      "metadata": {
        "id": "34f71820-fb39-473e-8221-1f2bd7001492"
      },
      "source": [
        "* As expected, most sold laptops have 8gb ram.\n",
        "* There is also a clear linear relation with price and ram, more ram higher is the price"
      ]
    },
    {
      "cell_type": "markdown",
      "id": "098d5d27-e81d-47b3-8d21-dfc394b9dcf3",
      "metadata": {
        "id": "098d5d27-e81d-47b3-8d21-dfc394b9dcf3"
      },
      "source": [
        "#### Feature Engineering 'Memory' column"
      ]
    },
    {
      "cell_type": "code",
      "execution_count": null,
      "id": "f57d1ac4-b61b-498d-a0c3-a2c5f4f8dc27",
      "metadata": {
        "id": "f57d1ac4-b61b-498d-a0c3-a2c5f4f8dc27",
        "outputId": "6f3364ed-c9c3-4af5-bdb6-7e4ea0979296"
      },
      "outputs": [
        {
          "data": {
            "text/html": [
              "<div>\n",
              "<style scoped>\n",
              "    .dataframe tbody tr th:only-of-type {\n",
              "        vertical-align: middle;\n",
              "    }\n",
              "\n",
              "    .dataframe tbody tr th {\n",
              "        vertical-align: top;\n",
              "    }\n",
              "\n",
              "    .dataframe thead th {\n",
              "        text-align: right;\n",
              "    }\n",
              "</style>\n",
              "<table border=\"1\" class=\"dataframe\">\n",
              "  <thead>\n",
              "    <tr style=\"text-align: right;\">\n",
              "      <th></th>\n",
              "      <th>Company</th>\n",
              "      <th>TypeName</th>\n",
              "      <th>Ram</th>\n",
              "      <th>Memory</th>\n",
              "      <th>Gpu</th>\n",
              "      <th>OpSys</th>\n",
              "      <th>Weight</th>\n",
              "      <th>Price</th>\n",
              "      <th>Touchscreen</th>\n",
              "      <th>Ips</th>\n",
              "      <th>ppi</th>\n",
              "      <th>Processor</th>\n",
              "    </tr>\n",
              "  </thead>\n",
              "  <tbody>\n",
              "    <tr>\n",
              "      <th>0</th>\n",
              "      <td>Apple</td>\n",
              "      <td>Ultrabook</td>\n",
              "      <td>8</td>\n",
              "      <td>128GB SSD</td>\n",
              "      <td>Intel Iris Plus Graphics 640</td>\n",
              "      <td>macOS</td>\n",
              "      <td>1.37</td>\n",
              "      <td>71378.6832</td>\n",
              "      <td>0</td>\n",
              "      <td>1</td>\n",
              "      <td>226.983005</td>\n",
              "      <td>Intel Core i5</td>\n",
              "    </tr>\n",
              "    <tr>\n",
              "      <th>1</th>\n",
              "      <td>Apple</td>\n",
              "      <td>Ultrabook</td>\n",
              "      <td>8</td>\n",
              "      <td>128GB Flash Storage</td>\n",
              "      <td>Intel HD Graphics 6000</td>\n",
              "      <td>macOS</td>\n",
              "      <td>1.34</td>\n",
              "      <td>47895.5232</td>\n",
              "      <td>0</td>\n",
              "      <td>0</td>\n",
              "      <td>127.677940</td>\n",
              "      <td>Intel Core i5</td>\n",
              "    </tr>\n",
              "    <tr>\n",
              "      <th>2</th>\n",
              "      <td>HP</td>\n",
              "      <td>Notebook</td>\n",
              "      <td>8</td>\n",
              "      <td>256GB SSD</td>\n",
              "      <td>Intel HD Graphics 620</td>\n",
              "      <td>No OS</td>\n",
              "      <td>1.86</td>\n",
              "      <td>30636.0000</td>\n",
              "      <td>0</td>\n",
              "      <td>0</td>\n",
              "      <td>141.211998</td>\n",
              "      <td>Intel Core i5</td>\n",
              "    </tr>\n",
              "  </tbody>\n",
              "</table>\n",
              "</div>"
            ],
            "text/plain": [
              "  Company   TypeName  Ram               Memory                           Gpu  \\\n",
              "0   Apple  Ultrabook    8            128GB SSD  Intel Iris Plus Graphics 640   \n",
              "1   Apple  Ultrabook    8  128GB Flash Storage        Intel HD Graphics 6000   \n",
              "2      HP   Notebook    8            256GB SSD         Intel HD Graphics 620   \n",
              "\n",
              "   OpSys  Weight       Price  Touchscreen  Ips         ppi      Processor  \n",
              "0  macOS    1.37  71378.6832            0    1  226.983005  Intel Core i5  \n",
              "1  macOS    1.34  47895.5232            0    0  127.677940  Intel Core i5  \n",
              "2  No OS    1.86  30636.0000            0    0  141.211998  Intel Core i5  "
            ]
          },
          "execution_count": 130,
          "metadata": {},
          "output_type": "execute_result"
        }
      ],
      "source": [
        "df.head(3)"
      ]
    },
    {
      "cell_type": "code",
      "execution_count": null,
      "id": "db62a79c-896f-4849-aad4-9d41c4675ee0",
      "metadata": {
        "id": "db62a79c-896f-4849-aad4-9d41c4675ee0",
        "outputId": "1b8f5e38-a5e8-4401-99af-f95986b147a3"
      },
      "outputs": [
        {
          "data": {
            "text/plain": [
              "256GB SSD                        412\n",
              "1TB HDD                          223\n",
              "500GB HDD                        132\n",
              "512GB SSD                        118\n",
              "128GB SSD +  1TB HDD              94\n",
              "128GB SSD                         76\n",
              "256GB SSD +  1TB HDD              73\n",
              "32GB Flash Storage                38\n",
              "2TB HDD                           16\n",
              "64GB Flash Storage                15\n",
              "512GB SSD +  1TB HDD              14\n",
              "1TB SSD                           14\n",
              "256GB SSD +  2TB HDD              10\n",
              "1.0TB Hybrid                       9\n",
              "256GB Flash Storage                8\n",
              "16GB Flash Storage                 7\n",
              "32GB SSD                           6\n",
              "180GB SSD                          5\n",
              "128GB Flash Storage                4\n",
              "512GB SSD +  2TB HDD               3\n",
              "16GB SSD                           3\n",
              "512GB Flash Storage                2\n",
              "1TB SSD +  1TB HDD                 2\n",
              "256GB SSD +  500GB HDD             2\n",
              "128GB SSD +  2TB HDD               2\n",
              "256GB SSD +  256GB SSD             2\n",
              "512GB SSD +  256GB SSD             1\n",
              "512GB SSD +  512GB SSD             1\n",
              "64GB Flash Storage +  1TB HDD      1\n",
              "1TB HDD +  1TB HDD                 1\n",
              "32GB HDD                           1\n",
              "64GB SSD                           1\n",
              "128GB HDD                          1\n",
              "240GB SSD                          1\n",
              "8GB SSD                            1\n",
              "508GB Hybrid                       1\n",
              "1.0TB HDD                          1\n",
              "512GB SSD +  1.0TB Hybrid          1\n",
              "256GB SSD +  1.0TB Hybrid          1\n",
              "Name: Memory, dtype: int64"
            ]
          },
          "execution_count": 131,
          "metadata": {},
          "output_type": "execute_result"
        }
      ],
      "source": [
        "df['Memory'].value_counts()"
      ]
    },
    {
      "cell_type": "markdown",
      "id": "8655092c-148b-4154-98e9-3ffe75aea5ca",
      "metadata": {
        "id": "8655092c-148b-4154-98e9-3ffe75aea5ca"
      },
      "source": [
        "* Again lot of information in a single column.\n",
        "* Lot of variation is present which is not good when model building\n",
        "* HDD, SSD, Flash Storage and Hybrid Memory can be seen --> sometimes in combination, sometimes either is present out of 4"
      ]
    },
    {
      "cell_type": "markdown",
      "id": "f900045e-ccbd-4ada-b01e-c5138ebe09f7",
      "metadata": {
        "id": "f900045e-ccbd-4ada-b01e-c5138ebe09f7"
      },
      "source": [
        "* step1 - Remove 'GB' and replace 'TB' with 1000.\n",
        "* step2 - Split the columns where there is '+'. Making new dataframe to store these values.\n",
        "* step3 - Make new columns named 'first' and 'second' t0 store these values.\n",
        "* step4 - Extracting SSD, HDD, Flash and Hybrid from both of these columns.\n",
        "--- step 4 makes 4 new columns assigning 1 to any kind of memory present and 0 for the absence.\n",
        "* step5 - Make final columns named HDD, SSD, Flash Storage, Hybrid by applying math function.\n",
        "* step6 - Since all the extraction is done, drop Memory column along with other created columns."
      ]
    },
    {
      "cell_type": "code",
      "execution_count": null,
      "id": "1f21dedf-783a-48db-94cc-75d2d13bc78f",
      "metadata": {
        "id": "1f21dedf-783a-48db-94cc-75d2d13bc78f",
        "outputId": "0b3e10dd-7a23-40b2-9e29-2005867d8ff8"
      },
      "outputs": [
        {
          "name": "stderr",
          "output_type": "stream",
          "text": [
            "C:\\Users\\yasha\\AppData\\Local\\Temp\\ipykernel_672\\1276071472.py:18: FutureWarning: The default value of regex will change from True to False in a future version.\n",
            "  df['first'] = df['first'].str.replace(r'\\D', '')\n",
            "C:\\Users\\yasha\\AppData\\Local\\Temp\\ipykernel_672\\1276071472.py:27: FutureWarning: The default value of regex will change from True to False in a future version.\n",
            "  df['second'] = df['second'].str.replace(r'\\D', '')\n"
          ]
        }
      ],
      "source": [
        "df['Memory'] = df['Memory'].astype(str).replace('\\.0', '', regex=True)\n",
        "df[\"Memory\"] = df[\"Memory\"].str.replace('GB', '')\n",
        "df[\"Memory\"] = df[\"Memory\"].str.replace('TB', '000')\n",
        "\n",
        "new = df[\"Memory\"].str.split(\"+\", n = 1, expand = True)\n",
        "\n",
        "df[\"first\"]= new[0]\n",
        "df[\"first\"]=df[\"first\"].str.strip()\n",
        "\n",
        "df[\"second\"]= new[1]\n",
        "\n",
        "\n",
        "df[\"Layer1HDD\"] = df[\"first\"].apply(lambda x: 1 if \"HDD\" in x else 0)\n",
        "df[\"Layer1SSD\"] = df[\"first\"].apply(lambda x: 1 if \"SSD\" in x else 0)\n",
        "df[\"Layer1Hybrid\"] = df[\"first\"].apply(lambda x: 1 if \"Hybrid\" in x else 0)\n",
        "df[\"Layer1Flash_Storage\"] = df[\"first\"].apply(lambda x: 1 if \"Flash Storage\" in x else 0)\n",
        "\n",
        "df['first'] = df['first'].str.replace(r'\\D', '')\n",
        "\n",
        "df[\"second\"].fillna(\"0\", inplace = True)\n",
        "\n",
        "df[\"Layer2HDD\"] = df[\"second\"].apply(lambda x: 1 if \"HDD\" in x else 0)\n",
        "df[\"Layer2SSD\"] = df[\"second\"].apply(lambda x: 1 if \"SSD\" in x else 0)\n",
        "df[\"Layer2Hybrid\"] = df[\"second\"].apply(lambda x: 1 if \"Hybrid\" in x else 0)\n",
        "df[\"Layer2Flash_Storage\"] = df[\"second\"].apply(lambda x: 1 if \"Flash Storage\" in x else 0)\n",
        "\n",
        "df['second'] = df['second'].str.replace(r'\\D', '')\n",
        "\n",
        "df[\"first\"] = df[\"first\"].astype(int)\n",
        "df[\"second\"] = df[\"second\"].astype(int)\n",
        "\n",
        "df[\"HDD\"]=(df[\"first\"]*df[\"Layer1HDD\"]+df[\"second\"]*df[\"Layer2HDD\"])\n",
        "df[\"SSD\"]=(df[\"first\"]*df[\"Layer1SSD\"]+df[\"second\"]*df[\"Layer2SSD\"])\n",
        "df[\"Hybrid\"]=(df[\"first\"]*df[\"Layer1Hybrid\"]+df[\"second\"]*df[\"Layer2Hybrid\"])\n",
        "df[\"Flash_Storage\"]=(df[\"first\"]*df[\"Layer1Flash_Storage\"]+df[\"second\"]*df[\"Layer2Flash_Storage\"])\n",
        "\n",
        "df.drop(columns=['first', 'second', 'Layer1HDD', 'Layer1SSD', 'Layer1Hybrid',\n",
        "       'Layer1Flash_Storage', 'Layer2HDD', 'Layer2SSD', 'Layer2Hybrid',\n",
        "       'Layer2Flash_Storage'],inplace=True)"
      ]
    },
    {
      "cell_type": "code",
      "execution_count": null,
      "id": "e8fcd182-214f-4acc-a03e-2de8197979a2",
      "metadata": {
        "id": "e8fcd182-214f-4acc-a03e-2de8197979a2",
        "outputId": "246be2d8-688b-4fca-a90f-09ed70608fca"
      },
      "outputs": [
        {
          "data": {
            "text/html": [
              "<div>\n",
              "<style scoped>\n",
              "    .dataframe tbody tr th:only-of-type {\n",
              "        vertical-align: middle;\n",
              "    }\n",
              "\n",
              "    .dataframe tbody tr th {\n",
              "        vertical-align: top;\n",
              "    }\n",
              "\n",
              "    .dataframe thead th {\n",
              "        text-align: right;\n",
              "    }\n",
              "</style>\n",
              "<table border=\"1\" class=\"dataframe\">\n",
              "  <thead>\n",
              "    <tr style=\"text-align: right;\">\n",
              "      <th></th>\n",
              "      <th>Company</th>\n",
              "      <th>TypeName</th>\n",
              "      <th>Ram</th>\n",
              "      <th>Memory</th>\n",
              "      <th>Gpu</th>\n",
              "      <th>OpSys</th>\n",
              "      <th>Weight</th>\n",
              "      <th>Price</th>\n",
              "      <th>Touchscreen</th>\n",
              "      <th>Ips</th>\n",
              "      <th>ppi</th>\n",
              "      <th>Processor</th>\n",
              "      <th>HDD</th>\n",
              "      <th>SSD</th>\n",
              "      <th>Hybrid</th>\n",
              "      <th>Flash_Storage</th>\n",
              "    </tr>\n",
              "  </thead>\n",
              "  <tbody>\n",
              "    <tr>\n",
              "      <th>0</th>\n",
              "      <td>Apple</td>\n",
              "      <td>Ultrabook</td>\n",
              "      <td>8</td>\n",
              "      <td>128 SSD</td>\n",
              "      <td>Intel Iris Plus Graphics 640</td>\n",
              "      <td>macOS</td>\n",
              "      <td>1.37</td>\n",
              "      <td>71378.6832</td>\n",
              "      <td>0</td>\n",
              "      <td>1</td>\n",
              "      <td>226.983005</td>\n",
              "      <td>Intel Core i5</td>\n",
              "      <td>0</td>\n",
              "      <td>128</td>\n",
              "      <td>0</td>\n",
              "      <td>0</td>\n",
              "    </tr>\n",
              "    <tr>\n",
              "      <th>1</th>\n",
              "      <td>Apple</td>\n",
              "      <td>Ultrabook</td>\n",
              "      <td>8</td>\n",
              "      <td>128 Flash Storage</td>\n",
              "      <td>Intel HD Graphics 6000</td>\n",
              "      <td>macOS</td>\n",
              "      <td>1.34</td>\n",
              "      <td>47895.5232</td>\n",
              "      <td>0</td>\n",
              "      <td>0</td>\n",
              "      <td>127.677940</td>\n",
              "      <td>Intel Core i5</td>\n",
              "      <td>0</td>\n",
              "      <td>0</td>\n",
              "      <td>0</td>\n",
              "      <td>128</td>\n",
              "    </tr>\n",
              "    <tr>\n",
              "      <th>2</th>\n",
              "      <td>HP</td>\n",
              "      <td>Notebook</td>\n",
              "      <td>8</td>\n",
              "      <td>256 SSD</td>\n",
              "      <td>Intel HD Graphics 620</td>\n",
              "      <td>No OS</td>\n",
              "      <td>1.86</td>\n",
              "      <td>30636.0000</td>\n",
              "      <td>0</td>\n",
              "      <td>0</td>\n",
              "      <td>141.211998</td>\n",
              "      <td>Intel Core i5</td>\n",
              "      <td>0</td>\n",
              "      <td>256</td>\n",
              "      <td>0</td>\n",
              "      <td>0</td>\n",
              "    </tr>\n",
              "    <tr>\n",
              "      <th>3</th>\n",
              "      <td>Apple</td>\n",
              "      <td>Ultrabook</td>\n",
              "      <td>16</td>\n",
              "      <td>512 SSD</td>\n",
              "      <td>AMD Radeon Pro 455</td>\n",
              "      <td>macOS</td>\n",
              "      <td>1.83</td>\n",
              "      <td>135195.3360</td>\n",
              "      <td>0</td>\n",
              "      <td>1</td>\n",
              "      <td>220.534624</td>\n",
              "      <td>Intel Core i7</td>\n",
              "      <td>0</td>\n",
              "      <td>512</td>\n",
              "      <td>0</td>\n",
              "      <td>0</td>\n",
              "    </tr>\n",
              "    <tr>\n",
              "      <th>4</th>\n",
              "      <td>Apple</td>\n",
              "      <td>Ultrabook</td>\n",
              "      <td>8</td>\n",
              "      <td>256 SSD</td>\n",
              "      <td>Intel Iris Plus Graphics 650</td>\n",
              "      <td>macOS</td>\n",
              "      <td>1.37</td>\n",
              "      <td>96095.8080</td>\n",
              "      <td>0</td>\n",
              "      <td>1</td>\n",
              "      <td>226.983005</td>\n",
              "      <td>Intel Core i5</td>\n",
              "      <td>0</td>\n",
              "      <td>256</td>\n",
              "      <td>0</td>\n",
              "      <td>0</td>\n",
              "    </tr>\n",
              "  </tbody>\n",
              "</table>\n",
              "</div>"
            ],
            "text/plain": [
              "  Company   TypeName  Ram             Memory                           Gpu  \\\n",
              "0   Apple  Ultrabook    8            128 SSD  Intel Iris Plus Graphics 640   \n",
              "1   Apple  Ultrabook    8  128 Flash Storage        Intel HD Graphics 6000   \n",
              "2      HP   Notebook    8            256 SSD         Intel HD Graphics 620   \n",
              "3   Apple  Ultrabook   16            512 SSD            AMD Radeon Pro 455   \n",
              "4   Apple  Ultrabook    8            256 SSD  Intel Iris Plus Graphics 650   \n",
              "\n",
              "   OpSys  Weight        Price  Touchscreen  Ips         ppi      Processor  \\\n",
              "0  macOS    1.37   71378.6832            0    1  226.983005  Intel Core i5   \n",
              "1  macOS    1.34   47895.5232            0    0  127.677940  Intel Core i5   \n",
              "2  No OS    1.86   30636.0000            0    0  141.211998  Intel Core i5   \n",
              "3  macOS    1.83  135195.3360            0    1  220.534624  Intel Core i7   \n",
              "4  macOS    1.37   96095.8080            0    1  226.983005  Intel Core i5   \n",
              "\n",
              "   HDD  SSD  Hybrid  Flash_Storage  \n",
              "0    0  128       0              0  \n",
              "1    0    0       0            128  \n",
              "2    0  256       0              0  \n",
              "3    0  512       0              0  \n",
              "4    0  256       0              0  "
            ]
          },
          "execution_count": 133,
          "metadata": {},
          "output_type": "execute_result"
        }
      ],
      "source": [
        "df.head()"
      ]
    },
    {
      "cell_type": "code",
      "execution_count": null,
      "id": "72d736e9-c0fa-4852-83c2-fc8bd7cea27a",
      "metadata": {
        "id": "72d736e9-c0fa-4852-83c2-fc8bd7cea27a"
      },
      "outputs": [],
      "source": [
        "df.drop(columns = ['Memory'], inplace = True)"
      ]
    },
    {
      "cell_type": "code",
      "execution_count": null,
      "id": "9e58aef7-6cc9-4052-95d8-fbe2fc38347c",
      "metadata": {
        "id": "9e58aef7-6cc9-4052-95d8-fbe2fc38347c",
        "outputId": "e8ff9015-d05c-4b3c-f10c-565ec4697dd7"
      },
      "outputs": [
        {
          "name": "stderr",
          "output_type": "stream",
          "text": [
            "C:\\Users\\yasha\\AppData\\Local\\Temp\\ipykernel_672\\1734695575.py:1: FutureWarning: The default value of numeric_only in DataFrame.corr is deprecated. In a future version, it will default to False. Select only valid columns or specify the value of numeric_only to silence this warning.\n",
            "  df.corr()[\"Price\"]\n"
          ]
        },
        {
          "data": {
            "text/plain": [
              "Ram              0.743007\n",
              "Weight           0.210370\n",
              "Price            1.000000\n",
              "Touchscreen      0.191226\n",
              "Ips              0.252208\n",
              "ppi              0.473487\n",
              "HDD             -0.096441\n",
              "SSD              0.670799\n",
              "Hybrid           0.007989\n",
              "Flash_Storage   -0.040511\n",
              "Name: Price, dtype: float64"
            ]
          },
          "execution_count": 135,
          "metadata": {},
          "output_type": "execute_result"
        }
      ],
      "source": [
        "df.corr()[\"Price\"]"
      ]
    },
    {
      "cell_type": "markdown",
      "id": "7cb0a696-b64c-4a8b-95eb-0e4f6f40b66a",
      "metadata": {
        "id": "7cb0a696-b64c-4a8b-95eb-0e4f6f40b66a"
      },
      "source": [
        "* Correlation of price with Hybrid, Flash storage and HDD is very low\n",
        "* Dropping Hybrid and Flash storage but keeping HDD"
      ]
    },
    {
      "cell_type": "code",
      "execution_count": null,
      "id": "70870348-d0eb-4939-94e4-25e9d356e0b5",
      "metadata": {
        "id": "70870348-d0eb-4939-94e4-25e9d356e0b5"
      },
      "outputs": [],
      "source": [
        "df.drop(columns = ['Hybrid', 'Flash_Storage'], inplace = True)"
      ]
    },
    {
      "cell_type": "markdown",
      "id": "52b2fedc-6f2d-4de7-9fb8-a903791b7ba0",
      "metadata": {
        "id": "52b2fedc-6f2d-4de7-9fb8-a903791b7ba0"
      },
      "source": [
        "#### Extracting and Analysing information from 'Gpu'"
      ]
    },
    {
      "cell_type": "code",
      "execution_count": null,
      "id": "7942b274-c193-4348-a4b2-b45d9a148d42",
      "metadata": {
        "id": "7942b274-c193-4348-a4b2-b45d9a148d42",
        "outputId": "83215a64-4bf5-4566-82c2-c27fda3f4288"
      },
      "outputs": [
        {
          "data": {
            "text/plain": [
              "Intel HD Graphics 620             281\n",
              "Intel HD Graphics 520             185\n",
              "Intel UHD Graphics 620             68\n",
              "Nvidia GeForce GTX 1050            66\n",
              "Nvidia GeForce GTX 1060            48\n",
              "Nvidia GeForce 940MX               43\n",
              "AMD Radeon 530                     41\n",
              "Intel HD Graphics 500              39\n",
              "Intel HD Graphics 400              37\n",
              "Nvidia GeForce GTX 1070            30\n",
              "Intel HD Graphics                  29\n",
              "Nvidia GeForce GTX 1050 Ti         28\n",
              "AMD Radeon R5 M430                 22\n",
              "Nvidia GeForce 930MX               20\n",
              "AMD Radeon 520                     17\n",
              "Nvidia GeForce MX150               15\n",
              "Intel HD Graphics 515              15\n",
              "Intel HD Graphics 615              14\n",
              "AMD Radeon R7 M445                 14\n",
              "Nvidia GeForce GTX 960M            14\n",
              "Nvidia GeForce 920MX               13\n",
              "Intel HD Graphics 505              12\n",
              "AMD Radeon R5                      11\n",
              "Nvidia GeForce GTX 980M            10\n",
              "Intel HD Graphics 405               9\n",
              "Nvidia Quadro M1200                 9\n",
              "AMD Radeon R5 M420                  8\n",
              "Intel Iris Plus Graphics 640        8\n",
              "Nvidia GeForce GTX 950M             7\n",
              "AMD Radeon R5 M330                  7\n",
              "Nvidia GeForce 920M                 6\n",
              "Nvidia GeForce GTX 1080             6\n",
              "Nvidia GeForce 930M                 6\n",
              "Nvidia GeForce MX130                6\n",
              "Nvidia GeForce 930MX                5\n",
              "Nvidia Quadro M620                  5\n",
              "Intel HD Graphics 6000              5\n",
              "AMD Radeon R7 M440                  5\n",
              "Nvidia GeForce 920MX                5\n",
              "Nvidia GeForce GTX 970M             5\n",
              "AMD Radeon R2                       5\n",
              "AMD Radeon RX 580                   5\n",
              "Nvidia GeForce GT 940MX             5\n",
              "AMD Radeon R4 Graphics              5\n",
              "Nvidia GeForce GTX 965M             4\n",
              "Nvidia GeForce GTX 940MX            4\n",
              "Intel HD Graphics 630               4\n",
              "AMD Radeon R2 Graphics              4\n",
              "AMD Radeon RX 550                   4\n",
              "Intel HD Graphics 510               4\n",
              "Nvidia Quadro M1000M                4\n",
              "Nvidia Quadro M2200M                3\n",
              "AMD Radeon R4                       3\n",
              "AMD Radeon R5 M420X                 3\n",
              "Nvidia GeForce GTX 1050M            3\n",
              "Nvidia GeForce 150MX                3\n",
              "AMD Radeon R7 M460                  2\n",
              "Nvidia GeForce GTX 960              2\n",
              "Intel Iris Plus Graphics 650        2\n",
              "Nvidia Quadro M520M                 2\n",
              "Nvidia GeForce GTX 1050Ti           2\n",
              "Nvidia Quadro M2200                 2\n",
              "Nvidia Quadro M2000M                2\n",
              "Nvidia GeForce GTX 960<U+039C>      2\n",
              "Intel Iris Graphics 540             2\n",
              "AMD Radeon RX 540                   2\n",
              "Intel HD Graphics 5300              2\n",
              "AMD FirePro W4190M                  2\n",
              "Nvidia GeForce 920                  1\n",
              "Nvidia GeForce 960M                 1\n",
              "AMD Radeon R7 Graphics              1\n",
              "Nvidia GeForce 940M                 1\n",
              "Nvidia GeForce GTX 930MX            1\n",
              "Nvidia Quadro 3000M                 1\n",
              "AMD Radeon R7 M360                  1\n",
              "AMD Radeon R7 M465                  1\n",
              "Nvidia Quadro M3000M                1\n",
              "AMD Radeon R3                       1\n",
              "Nvidia GeForce GTX 980              1\n",
              "Nvidia Quadro M500M                 1\n",
              "AMD Radeon R7 M365X                 1\n",
              "AMD Radeon R9 M385                  1\n",
              "AMD Radeon R5 M315                  1\n",
              "AMD FirePro W6150M                  1\n",
              "Intel HD Graphics 620               1\n",
              "AMD FirePro W4190M                  1\n",
              "Nvidia GeForce GTX 940M             1\n",
              "Nvidia GeForce GTX1060              1\n",
              "AMD Radeon R5 430                   1\n",
              "AMD Radeon Pro 455                  1\n",
              "Intel Iris Pro Graphics             1\n",
              "AMD Radeon Pro 555                  1\n",
              "AMD Radeon Pro 560                  1\n",
              "AMD R4 Graphics                     1\n",
              "AMD Radeon RX 560                   1\n",
              "Nvidia GTX 980 SLI                  1\n",
              "AMD R17M-M1-70                      1\n",
              "Intel Iris Graphics 550             1\n",
              "AMD FirePro W5130M                  1\n",
              "Nvidia GeForce GTX 1070M            1\n",
              "Intel HD Graphics 530               1\n",
              "Nvidia GeForce GTX1080              1\n",
              "Nvidia GeForce GTX1050 Ti           1\n",
              "Nvidia Quadro M620M                 1\n",
              "Intel Graphics 620                  1\n",
              "AMD Radeon R5 520                   1\n",
              "AMD Radeon R7                       1\n",
              "Intel HD Graphics 540               1\n",
              "AMD Radeon 540                      1\n",
              "ARM Mali T860 MP4                   1\n",
              "Name: Gpu, dtype: int64"
            ]
          },
          "execution_count": 138,
          "metadata": {},
          "output_type": "execute_result"
        }
      ],
      "source": [
        "df['Gpu'].value_counts()"
      ]
    },
    {
      "cell_type": "markdown",
      "id": "cbe0264e-3452-481d-8956-7ba949cd7275",
      "metadata": {
        "id": "cbe0264e-3452-481d-8956-7ba949cd7275"
      },
      "source": [
        "* Again a lot of varieties which will affect r2 score.\n",
        "* Reduce variation by extracting brand name from gpu column."
      ]
    },
    {
      "cell_type": "code",
      "execution_count": null,
      "id": "7d711c09-8863-42f1-86d7-f4aa1214ede2",
      "metadata": {
        "id": "7d711c09-8863-42f1-86d7-f4aa1214ede2"
      },
      "outputs": [],
      "source": [
        "df['Gpu Brand'] = df['Gpu'].apply(lambda x:x.split()[0])"
      ]
    },
    {
      "cell_type": "code",
      "execution_count": null,
      "id": "46e9a166-914c-458a-9490-d6399ae903a6",
      "metadata": {
        "id": "46e9a166-914c-458a-9490-d6399ae903a6",
        "outputId": "55a6f4a6-7d2d-4683-89d4-e79276cd70de"
      },
      "outputs": [
        {
          "data": {
            "text/plain": [
              "Intel     722\n",
              "Nvidia    400\n",
              "AMD       180\n",
              "ARM         1\n",
              "Name: Gpu Brand, dtype: int64"
            ]
          },
          "execution_count": 140,
          "metadata": {},
          "output_type": "execute_result"
        }
      ],
      "source": [
        "df['Gpu Brand'].value_counts()"
      ]
    },
    {
      "cell_type": "code",
      "execution_count": null,
      "id": "809f162d-fd64-4e25-a89d-3b614bcf23a5",
      "metadata": {
        "id": "809f162d-fd64-4e25-a89d-3b614bcf23a5"
      },
      "outputs": [],
      "source": [
        "df = df[df['Gpu Brand'] != 'ARM']"
      ]
    },
    {
      "cell_type": "code",
      "execution_count": null,
      "id": "23d13585-4fab-47a8-846a-ed675d99da7d",
      "metadata": {
        "id": "23d13585-4fab-47a8-846a-ed675d99da7d",
        "outputId": "c4bae8f0-98a4-4382-cfb0-87676b5b3cf6"
      },
      "outputs": [
        {
          "data": {
            "image/png": "[encoded data removed]",
            "text/plain": [
              "<Figure size 640x480 with 1 Axes>"
            ]
          },
          "metadata": {},
          "output_type": "display_data"
        }
      ],
      "source": [
        "sns.barplot(x = df['Gpu Brand'], y = df['Price'])\n",
        "plt.xticks(rotation = 'vertical')\n",
        "plt.show()"
      ]
    },
    {
      "cell_type": "markdown",
      "id": "10ddad27-6e0f-4ce1-a2b8-0a2c387fcadd",
      "metadata": {
        "id": "10ddad27-6e0f-4ce1-a2b8-0a2c387fcadd"
      },
      "source": [
        "* Correlation with price shows Nvidia is priced at the highest followed by Intel and AMD."
      ]
    },
    {
      "cell_type": "code",
      "execution_count": null,
      "id": "92f21012-3390-4b5d-ac7f-f3360762cce3",
      "metadata": {
        "id": "92f21012-3390-4b5d-ac7f-f3360762cce3"
      },
      "outputs": [],
      "source": [
        "df.drop(columns = ['Gpu'], inplace = True)"
      ]
    },
    {
      "cell_type": "markdown",
      "id": "726fb398-833f-4a5f-af5c-79395b914a85",
      "metadata": {
        "id": "726fb398-833f-4a5f-af5c-79395b914a85"
      },
      "source": [
        "#### Extracting and Analysing 'OpSys' columns"
      ]
    },
    {
      "cell_type": "code",
      "execution_count": null,
      "id": "afac5151-b00d-4e46-b5b6-34ece07469d6",
      "metadata": {
        "id": "afac5151-b00d-4e46-b5b6-34ece07469d6",
        "outputId": "003e366f-86ec-4b48-b856-f5e1cd60385a"
      },
      "outputs": [
        {
          "data": {
            "text/plain": [
              "Windows 10      1072\n",
              "No OS             66\n",
              "Linux             62\n",
              "Windows 7         45\n",
              "Chrome OS         26\n",
              "macOS             13\n",
              "Mac OS X           8\n",
              "Windows 10 S       8\n",
              "Android            2\n",
              "Name: OpSys, dtype: int64"
            ]
          },
          "execution_count": 144,
          "metadata": {},
          "output_type": "execute_result"
        }
      ],
      "source": [
        "df['OpSys'].value_counts()"
      ]
    },
    {
      "cell_type": "code",
      "execution_count": null,
      "id": "3910cadf-80ef-4ac0-a041-e87d960ef3bd",
      "metadata": {
        "id": "3910cadf-80ef-4ac0-a041-e87d960ef3bd",
        "outputId": "0fa5643a-38ee-495e-e8e3-3f4b7cfabe4a"
      },
      "outputs": [
        {
          "data": {
            "image/png": "[encoded data removed]",
            "text/plain": [
              "<Figure size 640x480 with 1 Axes>"
            ]
          },
          "metadata": {},
          "output_type": "display_data"
        }
      ],
      "source": [
        "sns.barplot(x= df.OpSys, y = df.Price)\n",
        "plt.xticks(rotation = 'vertical')\n",
        "plt.show()"
      ]
    },
    {
      "cell_type": "markdown",
      "id": "6aefebdc-889c-4bb9-9ae2-e303538b7a5d",
      "metadata": {
        "id": "6aefebdc-889c-4bb9-9ae2-e303538b7a5d"
      },
      "source": [
        "* As expected mac is priced at highest which is just slightly more than windows 7.\n",
        "* There are too many categories.\n",
        "* Reduce categories into 3 to improve model."
      ]
    },
    {
      "cell_type": "code",
      "execution_count": null,
      "id": "9f40f7a7-e07f-4709-b70b-5340744edb87",
      "metadata": {
        "id": "9f40f7a7-e07f-4709-b70b-5340744edb87"
      },
      "outputs": [],
      "source": [
        "def cat_os(inp):\n",
        "    if inp == 'Windows 10' or inp == 'Windows 7' or inp == 'Windows 10 S':\n",
        "        return 'Windows'\n",
        "    elif inp == 'macOS' or inp == 'Mac OS X':\n",
        "        return 'Mac'\n",
        "    else:\n",
        "        return 'Others/No OS/Linux'"
      ]
    },
    {
      "cell_type": "code",
      "execution_count": null,
      "id": "60534be1-0cd2-438e-8d52-a5e74f64e7ca",
      "metadata": {
        "id": "60534be1-0cd2-438e-8d52-a5e74f64e7ca"
      },
      "outputs": [],
      "source": [
        "df['os'] = df['OpSys'].apply(cat_os)"
      ]
    },
    {
      "cell_type": "code",
      "execution_count": null,
      "id": "5f6c0696-1d7e-449a-8c0a-54060cd54b6b",
      "metadata": {
        "id": "5f6c0696-1d7e-449a-8c0a-54060cd54b6b",
        "outputId": "a70d6549-9437-483d-fe5a-42ab2e04fa74"
      },
      "outputs": [
        {
          "data": {
            "text/html": [
              "<div>\n",
              "<style scoped>\n",
              "    .dataframe tbody tr th:only-of-type {\n",
              "        vertical-align: middle;\n",
              "    }\n",
              "\n",
              "    .dataframe tbody tr th {\n",
              "        vertical-align: top;\n",
              "    }\n",
              "\n",
              "    .dataframe thead th {\n",
              "        text-align: right;\n",
              "    }\n",
              "</style>\n",
              "<table border=\"1\" class=\"dataframe\">\n",
              "  <thead>\n",
              "    <tr style=\"text-align: right;\">\n",
              "      <th></th>\n",
              "      <th>Company</th>\n",
              "      <th>TypeName</th>\n",
              "      <th>Ram</th>\n",
              "      <th>OpSys</th>\n",
              "      <th>Weight</th>\n",
              "      <th>Price</th>\n",
              "      <th>Touchscreen</th>\n",
              "      <th>Ips</th>\n",
              "      <th>ppi</th>\n",
              "      <th>Processor</th>\n",
              "      <th>HDD</th>\n",
              "      <th>SSD</th>\n",
              "      <th>Gpu Brand</th>\n",
              "      <th>os</th>\n",
              "    </tr>\n",
              "  </thead>\n",
              "  <tbody>\n",
              "    <tr>\n",
              "      <th>0</th>\n",
              "      <td>Apple</td>\n",
              "      <td>Ultrabook</td>\n",
              "      <td>8</td>\n",
              "      <td>macOS</td>\n",
              "      <td>1.37</td>\n",
              "      <td>71378.6832</td>\n",
              "      <td>0</td>\n",
              "      <td>1</td>\n",
              "      <td>226.983005</td>\n",
              "      <td>Intel Core i5</td>\n",
              "      <td>0</td>\n",
              "      <td>128</td>\n",
              "      <td>Intel</td>\n",
              "      <td>Mac</td>\n",
              "    </tr>\n",
              "    <tr>\n",
              "      <th>1</th>\n",
              "      <td>Apple</td>\n",
              "      <td>Ultrabook</td>\n",
              "      <td>8</td>\n",
              "      <td>macOS</td>\n",
              "      <td>1.34</td>\n",
              "      <td>47895.5232</td>\n",
              "      <td>0</td>\n",
              "      <td>0</td>\n",
              "      <td>127.677940</td>\n",
              "      <td>Intel Core i5</td>\n",
              "      <td>0</td>\n",
              "      <td>0</td>\n",
              "      <td>Intel</td>\n",
              "      <td>Mac</td>\n",
              "    </tr>\n",
              "    <tr>\n",
              "      <th>2</th>\n",
              "      <td>HP</td>\n",
              "      <td>Notebook</td>\n",
              "      <td>8</td>\n",
              "      <td>No OS</td>\n",
              "      <td>1.86</td>\n",
              "      <td>30636.0000</td>\n",
              "      <td>0</td>\n",
              "      <td>0</td>\n",
              "      <td>141.211998</td>\n",
              "      <td>Intel Core i5</td>\n",
              "      <td>0</td>\n",
              "      <td>256</td>\n",
              "      <td>Intel</td>\n",
              "      <td>Others/No OS/Linux</td>\n",
              "    </tr>\n",
              "    <tr>\n",
              "      <th>3</th>\n",
              "      <td>Apple</td>\n",
              "      <td>Ultrabook</td>\n",
              "      <td>16</td>\n",
              "      <td>macOS</td>\n",
              "      <td>1.83</td>\n",
              "      <td>135195.3360</td>\n",
              "      <td>0</td>\n",
              "      <td>1</td>\n",
              "      <td>220.534624</td>\n",
              "      <td>Intel Core i7</td>\n",
              "      <td>0</td>\n",
              "      <td>512</td>\n",
              "      <td>AMD</td>\n",
              "      <td>Mac</td>\n",
              "    </tr>\n",
              "    <tr>\n",
              "      <th>4</th>\n",
              "      <td>Apple</td>\n",
              "      <td>Ultrabook</td>\n",
              "      <td>8</td>\n",
              "      <td>macOS</td>\n",
              "      <td>1.37</td>\n",
              "      <td>96095.8080</td>\n",
              "      <td>0</td>\n",
              "      <td>1</td>\n",
              "      <td>226.983005</td>\n",
              "      <td>Intel Core i5</td>\n",
              "      <td>0</td>\n",
              "      <td>256</td>\n",
              "      <td>Intel</td>\n",
              "      <td>Mac</td>\n",
              "    </tr>\n",
              "  </tbody>\n",
              "</table>\n",
              "</div>"
            ],
            "text/plain": [
              "  Company   TypeName  Ram  OpSys  Weight        Price  Touchscreen  Ips  \\\n",
              "0   Apple  Ultrabook    8  macOS    1.37   71378.6832            0    1   \n",
              "1   Apple  Ultrabook    8  macOS    1.34   47895.5232            0    0   \n",
              "2      HP   Notebook    8  No OS    1.86   30636.0000            0    0   \n",
              "3   Apple  Ultrabook   16  macOS    1.83  135195.3360            0    1   \n",
              "4   Apple  Ultrabook    8  macOS    1.37   96095.8080            0    1   \n",
              "\n",
              "          ppi      Processor  HDD  SSD Gpu Brand                  os  \n",
              "0  226.983005  Intel Core i5    0  128     Intel                 Mac  \n",
              "1  127.677940  Intel Core i5    0    0     Intel                 Mac  \n",
              "2  141.211998  Intel Core i5    0  256     Intel  Others/No OS/Linux  \n",
              "3  220.534624  Intel Core i7    0  512       AMD                 Mac  \n",
              "4  226.983005  Intel Core i5    0  256     Intel                 Mac  "
            ]
          },
          "execution_count": 148,
          "metadata": {},
          "output_type": "execute_result"
        }
      ],
      "source": [
        "df.head()"
      ]
    },
    {
      "cell_type": "code",
      "execution_count": null,
      "id": "8024c701-e505-4bbc-8745-cf215b41b54c",
      "metadata": {
        "id": "8024c701-e505-4bbc-8745-cf215b41b54c"
      },
      "outputs": [],
      "source": [
        "df.drop(columns = ['OpSys'], inplace = True)"
      ]
    },
    {
      "cell_type": "code",
      "execution_count": null,
      "id": "2563363c-bc46-4d9c-a212-7b8d7276b9ed",
      "metadata": {
        "id": "2563363c-bc46-4d9c-a212-7b8d7276b9ed",
        "outputId": "2ebdd6bf-3eb3-4fd1-c128-24b02894bcf5"
      },
      "outputs": [
        {
          "data": {
            "image/png": "[encoded data removed]",
            "text/plain": [
              "<Figure size 640x480 with 1 Axes>"
            ]
          },
          "metadata": {},
          "output_type": "display_data"
        }
      ],
      "source": [
        "sns.barplot(x= df.os, y = df.Price)\n",
        "plt.xticks(rotation = 'vertical')\n",
        "plt.show()"
      ]
    },
    {
      "cell_type": "markdown",
      "id": "df47df5b-d923-4dfd-821c-5349971930aa",
      "metadata": {
        "id": "df47df5b-d923-4dfd-821c-5349971930aa"
      },
      "source": [
        "#### Analysing 'Weight' column"
      ]
    },
    {
      "cell_type": "code",
      "execution_count": null,
      "id": "8cad35dd-eaae-41a4-8b88-70ffb486be6d",
      "metadata": {
        "id": "8cad35dd-eaae-41a4-8b88-70ffb486be6d",
        "outputId": "fcf68eaa-dd9d-4884-e945-c3160034558c"
      },
      "outputs": [
        {
          "data": {
            "text/plain": [
              "<Axes: xlabel='Weight', ylabel='Count'>"
            ]
          },
          "execution_count": 151,
          "metadata": {},
          "output_type": "execute_result"
        },
        {
          "data": {
            "image/png": "[encoded data removed]",
            "text/plain": [
              "<Figure size 640x480 with 1 Axes>"
            ]
          },
          "metadata": {},
          "output_type": "display_data"
        }
      ],
      "source": [
        "sns.histplot(df['Weight'], kde = True)"
      ]
    },
    {
      "cell_type": "code",
      "execution_count": null,
      "id": "37d169b0-a1c9-4f0f-b1a3-31e2eacb84f8",
      "metadata": {
        "id": "37d169b0-a1c9-4f0f-b1a3-31e2eacb84f8",
        "outputId": "f68c6767-6021-40d6-d4a4-d29e83b17631"
      },
      "outputs": [
        {
          "data": {
            "image/png": "[encoded data removed]",
            "text/plain": [
              "<Figure size 640x480 with 1 Axes>"
            ]
          },
          "metadata": {},
          "output_type": "display_data"
        }
      ],
      "source": [
        "sns.scatterplot(x = df.Weight, y = df.Price);"
      ]
    },
    {
      "cell_type": "markdown",
      "id": "197653f8-7eb9-4cf6-a444-e9d05b88e6a6",
      "metadata": {
        "id": "197653f8-7eb9-4cf6-a444-e9d05b88e6a6"
      },
      "source": [
        "* Direct relation cannot be seen"
      ]
    },
    {
      "cell_type": "markdown",
      "id": "a08f4057-c650-4b49-aa48-f721c611fa7b",
      "metadata": {
        "id": "a08f4057-c650-4b49-aa48-f721c611fa7b"
      },
      "source": [
        "* All independent variable hav been dealt with.\n",
        "* Plotting heatmap to see where correlation is most"
      ]
    },
    {
      "cell_type": "code",
      "execution_count": null,
      "id": "a8af1fa9-125f-4706-a7a4-8cec0545d64d",
      "metadata": {
        "id": "a8af1fa9-125f-4706-a7a4-8cec0545d64d",
        "outputId": "0b06f8d9-b6e5-450e-a8c3-a33a1e55bc72"
      },
      "outputs": [
        {
          "name": "stderr",
          "output_type": "stream",
          "text": [
            "C:\\Users\\yasha\\AppData\\Local\\Temp\\ipykernel_672\\2460615548.py:1: FutureWarning: The default value of numeric_only in DataFrame.corr is deprecated. In a future version, it will default to False. Select only valid columns or specify the value of numeric_only to silence this warning.\n",
            "  sns.heatmap(df.corr());\n"
          ]
        },
        {
          "data": {
            "image/png": "[encoded data removed]",
            "text/plain": [
              "<Figure size 640x480 with 2 Axes>"
            ]
          },
          "metadata": {},
          "output_type": "display_data"
        }
      ],
      "source": [
        "sns.heatmap(df.corr());"
      ]
    },
    {
      "cell_type": "markdown",
      "id": "9056fcbc-d867-479b-a56d-54269fa86521",
      "metadata": {
        "id": "9056fcbc-d867-479b-a56d-54269fa86521"
      },
      "source": [
        "* since our target variable is slightly skewed we will apply log function"
      ]
    },
    {
      "cell_type": "code",
      "execution_count": null,
      "id": "e0080c2f-a6d5-4542-a1fb-e85048f416c8",
      "metadata": {
        "id": "e0080c2f-a6d5-4542-a1fb-e85048f416c8",
        "outputId": "6d4c518f-83c7-499e-a1ed-be669c871fda"
      },
      "outputs": [
        {
          "data": {
            "image/png": "[encoded data removed]",
            "text/plain": [
              "<Figure size 640x480 with 1 Axes>"
            ]
          },
          "metadata": {},
          "output_type": "display_data"
        }
      ],
      "source": [
        "sns.histplot(np.log(df.Price), kde = True);"
      ]
    },
    {
      "cell_type": "markdown",
      "id": "db614aac-49e8-487e-ae3b-c3ea9d44f6b0",
      "metadata": {
        "id": "db614aac-49e8-487e-ae3b-c3ea9d44f6b0"
      },
      "source": [
        "#### Sampling --> spliting data in x and y"
      ]
    },
    {
      "cell_type": "code",
      "execution_count": null,
      "id": "ef5694f0-e6cc-4113-a1ab-032db4feebf6",
      "metadata": {
        "id": "ef5694f0-e6cc-4113-a1ab-032db4feebf6"
      },
      "outputs": [],
      "source": [
        "x = df.drop(columns = ['Price'])\n",
        "y = np.log(df.Price)"
      ]
    },
    {
      "cell_type": "code",
      "execution_count": null,
      "id": "a2063e3c-4f59-4b86-8412-1970956bc850",
      "metadata": {
        "id": "a2063e3c-4f59-4b86-8412-1970956bc850",
        "outputId": "c4f06858-1e1b-4669-adf7-b4de20443053"
      },
      "outputs": [
        {
          "data": {
            "text/plain": [
              "(1302, 12)"
            ]
          },
          "execution_count": 156,
          "metadata": {},
          "output_type": "execute_result"
        }
      ],
      "source": [
        "x.shape"
      ]
    },
    {
      "cell_type": "code",
      "execution_count": null,
      "id": "f1517a57-e252-48c2-a19b-c641e6a21171",
      "metadata": {
        "id": "f1517a57-e252-48c2-a19b-c641e6a21171"
      },
      "outputs": [],
      "source": [
        "from sklearn.model_selection import train_test_split"
      ]
    },
    {
      "cell_type": "code",
      "execution_count": null,
      "id": "f6b2ea97-fdfd-461c-b8d3-000e2393acff",
      "metadata": {
        "id": "f6b2ea97-fdfd-461c-b8d3-000e2393acff"
      },
      "outputs": [],
      "source": [
        "x_train , x_test, y_train, y_test = train_test_split(x,y,test_size=.2,random_state=2)"
      ]
    },
    {
      "cell_type": "code",
      "execution_count": null,
      "id": "1b8fe7fb-8ab5-48da-99b0-ef304f9abd40",
      "metadata": {
        "id": "1b8fe7fb-8ab5-48da-99b0-ef304f9abd40",
        "outputId": "9b52161f-c763-430e-8477-ab8707a04ae1"
      },
      "outputs": [
        {
          "data": {
            "text/html": [
              "<div>\n",
              "<style scoped>\n",
              "    .dataframe tbody tr th:only-of-type {\n",
              "        vertical-align: middle;\n",
              "    }\n",
              "\n",
              "    .dataframe tbody tr th {\n",
              "        vertical-align: top;\n",
              "    }\n",
              "\n",
              "    .dataframe thead th {\n",
              "        text-align: right;\n",
              "    }\n",
              "</style>\n",
              "<table border=\"1\" class=\"dataframe\">\n",
              "  <thead>\n",
              "    <tr style=\"text-align: right;\">\n",
              "      <th></th>\n",
              "      <th>Company</th>\n",
              "      <th>TypeName</th>\n",
              "      <th>Ram</th>\n",
              "      <th>Weight</th>\n",
              "      <th>Touchscreen</th>\n",
              "      <th>Ips</th>\n",
              "      <th>ppi</th>\n",
              "      <th>Processor</th>\n",
              "      <th>HDD</th>\n",
              "      <th>SSD</th>\n",
              "      <th>Gpu Brand</th>\n",
              "      <th>os</th>\n",
              "    </tr>\n",
              "  </thead>\n",
              "  <tbody>\n",
              "    <tr>\n",
              "      <th>91</th>\n",
              "      <td>Acer</td>\n",
              "      <td>Notebook</td>\n",
              "      <td>8</td>\n",
              "      <td>2.2</td>\n",
              "      <td>0</td>\n",
              "      <td>0</td>\n",
              "      <td>141.211998</td>\n",
              "      <td>Intel Core i7</td>\n",
              "      <td>1000</td>\n",
              "      <td>0</td>\n",
              "      <td>Nvidia</td>\n",
              "      <td>Windows</td>\n",
              "    </tr>\n",
              "    <tr>\n",
              "      <th>863</th>\n",
              "      <td>Lenovo</td>\n",
              "      <td>Gaming</td>\n",
              "      <td>8</td>\n",
              "      <td>2.5</td>\n",
              "      <td>0</td>\n",
              "      <td>1</td>\n",
              "      <td>141.211998</td>\n",
              "      <td>Intel Core i5</td>\n",
              "      <td>1000</td>\n",
              "      <td>0</td>\n",
              "      <td>Nvidia</td>\n",
              "      <td>Others/No OS/Linux</td>\n",
              "    </tr>\n",
              "  </tbody>\n",
              "</table>\n",
              "</div>"
            ],
            "text/plain": [
              "    Company  TypeName  Ram  Weight  Touchscreen  Ips         ppi  \\\n",
              "91     Acer  Notebook    8     2.2            0    0  141.211998   \n",
              "863  Lenovo    Gaming    8     2.5            0    1  141.211998   \n",
              "\n",
              "         Processor   HDD  SSD Gpu Brand                  os  \n",
              "91   Intel Core i7  1000    0    Nvidia             Windows  \n",
              "863  Intel Core i5  1000    0    Nvidia  Others/No OS/Linux  "
            ]
          },
          "execution_count": 159,
          "metadata": {},
          "output_type": "execute_result"
        }
      ],
      "source": [
        "x_train.head(2)"
      ]
    },
    {
      "cell_type": "code",
      "execution_count": null,
      "id": "3d183a39-f4a8-4f70-b5f0-cfdbff62e1ae",
      "metadata": {
        "id": "3d183a39-f4a8-4f70-b5f0-cfdbff62e1ae",
        "outputId": "c1255527-776a-4fb2-b21f-01dc033ae30c"
      },
      "outputs": [
        {
          "data": {
            "text/plain": [
              "91     10.510802\n",
              "863    10.900173\n",
              "Name: Price, dtype: float64"
            ]
          },
          "execution_count": 160,
          "metadata": {},
          "output_type": "execute_result"
        }
      ],
      "source": [
        "y_train.head(2)"
      ]
    },
    {
      "cell_type": "markdown",
      "id": "e0e78028-fa23-4f78-b593-c7551dfa73c9",
      "metadata": {
        "id": "e0e78028-fa23-4f78-b593-c7551dfa73c9"
      },
      "source": [
        "#### Applying OneHotEncoder to handle non numeric columns"
      ]
    },
    {
      "cell_type": "markdown",
      "id": "9125647e-8ff3-46a4-9870-9a2b744ece60",
      "metadata": {
        "id": "9125647e-8ff3-46a4-9870-9a2b744ece60"
      },
      "source": [
        "* Importing all the necessary functions\n",
        "* I have used column transformer and pipeline to build my model in 1 step\n",
        "* Building model on Linerar reg, Decision Tree, Random Forest, SVM, Gradient Boost, KNN"
      ]
    },
    {
      "cell_type": "markdown",
      "id": "2fe41bfe-281b-4026-86f7-05b6c4e59041",
      "metadata": {
        "id": "2fe41bfe-281b-4026-86f7-05b6c4e59041"
      },
      "source": [
        "#### Importing all the necessary libraries and functions"
      ]
    },
    {
      "cell_type": "code",
      "execution_count": null,
      "id": "81a2ed2b-3769-400f-a971-e40b95db8fb3",
      "metadata": {
        "id": "81a2ed2b-3769-400f-a971-e40b95db8fb3"
      },
      "outputs": [],
      "source": [
        "from sklearn.compose import ColumnTransformer\n",
        "from sklearn.pipeline import Pipeline\n",
        "from sklearn.linear_model import LinearRegression, Ridge, Lasso\n",
        "from sklearn.tree import DecisionTreeRegressor\n",
        "from sklearn.ensemble import RandomForestRegressor, GradientBoostingRegressor\n",
        "from sklearn.svm import SVR\n",
        "from sklearn.preprocessing import OneHotEncoder\n",
        "from sklearn.metrics import r2_score, mean_absolute_error\n",
        "from xgboost import XGBRegressor\n",
        "from sklearn.neighbors import KNeighborsRegressor"
      ]
    },
    {
      "cell_type": "code",
      "execution_count": null,
      "id": "1d5716fa-76dd-4856-be4c-4724b0396653",
      "metadata": {
        "id": "1d5716fa-76dd-4856-be4c-4724b0396653",
        "outputId": "7ec0decf-1bb5-41e3-ac19-522c446145d0"
      },
      "outputs": [
        {
          "data": {
            "text/html": [
              "<div>\n",
              "<style scoped>\n",
              "    .dataframe tbody tr th:only-of-type {\n",
              "        vertical-align: middle;\n",
              "    }\n",
              "\n",
              "    .dataframe tbody tr th {\n",
              "        vertical-align: top;\n",
              "    }\n",
              "\n",
              "    .dataframe thead th {\n",
              "        text-align: right;\n",
              "    }\n",
              "</style>\n",
              "<table border=\"1\" class=\"dataframe\">\n",
              "  <thead>\n",
              "    <tr style=\"text-align: right;\">\n",
              "      <th></th>\n",
              "      <th>Company</th>\n",
              "      <th>TypeName</th>\n",
              "      <th>Ram</th>\n",
              "      <th>Weight</th>\n",
              "      <th>Touchscreen</th>\n",
              "      <th>Ips</th>\n",
              "      <th>ppi</th>\n",
              "      <th>Processor</th>\n",
              "      <th>HDD</th>\n",
              "      <th>SSD</th>\n",
              "      <th>Gpu Brand</th>\n",
              "      <th>os</th>\n",
              "    </tr>\n",
              "  </thead>\n",
              "  <tbody>\n",
              "    <tr>\n",
              "      <th>91</th>\n",
              "      <td>Acer</td>\n",
              "      <td>Notebook</td>\n",
              "      <td>8</td>\n",
              "      <td>2.2</td>\n",
              "      <td>0</td>\n",
              "      <td>0</td>\n",
              "      <td>141.211998</td>\n",
              "      <td>Intel Core i7</td>\n",
              "      <td>1000</td>\n",
              "      <td>0</td>\n",
              "      <td>Nvidia</td>\n",
              "      <td>Windows</td>\n",
              "    </tr>\n",
              "    <tr>\n",
              "      <th>863</th>\n",
              "      <td>Lenovo</td>\n",
              "      <td>Gaming</td>\n",
              "      <td>8</td>\n",
              "      <td>2.5</td>\n",
              "      <td>0</td>\n",
              "      <td>1</td>\n",
              "      <td>141.211998</td>\n",
              "      <td>Intel Core i5</td>\n",
              "      <td>1000</td>\n",
              "      <td>0</td>\n",
              "      <td>Nvidia</td>\n",
              "      <td>Others/No OS/Linux</td>\n",
              "    </tr>\n",
              "  </tbody>\n",
              "</table>\n",
              "</div>"
            ],
            "text/plain": [
              "    Company  TypeName  Ram  Weight  Touchscreen  Ips         ppi  \\\n",
              "91     Acer  Notebook    8     2.2            0    0  141.211998   \n",
              "863  Lenovo    Gaming    8     2.5            0    1  141.211998   \n",
              "\n",
              "         Processor   HDD  SSD Gpu Brand                  os  \n",
              "91   Intel Core i7  1000    0    Nvidia             Windows  \n",
              "863  Intel Core i5  1000    0    Nvidia  Others/No OS/Linux  "
            ]
          },
          "execution_count": 164,
          "metadata": {},
          "output_type": "execute_result"
        }
      ],
      "source": [
        "x_train.head(2)"
      ]
    },
    {
      "cell_type": "markdown",
      "id": "02b903aa-f2ca-4470-bc10-a2d669c1fa0f",
      "metadata": {
        "id": "02b903aa-f2ca-4470-bc10-a2d669c1fa0f"
      },
      "source": [
        "#### Linear Regression"
      ]
    },
    {
      "cell_type": "code",
      "execution_count": null,
      "id": "4f47f157-ad0b-4166-896f-aaf627bfedb9",
      "metadata": {
        "id": "4f47f157-ad0b-4166-896f-aaf627bfedb9",
        "outputId": "334108af-97e1-46f4-ffed-7a4151c10854"
      },
      "outputs": [
        {
          "name": "stdout",
          "output_type": "stream",
          "text": [
            "r2_score 0.800240596385732\n",
            "mae 0.20453995809076045\n"
          ]
        }
      ],
      "source": [
        "step1 = ColumnTransformer(transformers=[\n",
        "    ('col_tnf', OneHotEncoder(sparse_output = False, drop ='first'),[0,1,7,10,11])\n",
        "], remainder='passthrough')\n",
        "\n",
        "step2 = LinearRegression()\n",
        "\n",
        "pipe = Pipeline([\n",
        "    ('step1',step1),\n",
        "    ('step2',step2)\n",
        "])\n",
        "\n",
        "pipe.fit(x_train, y_train)\n",
        "\n",
        "y_pred = pipe.predict(x_test)\n",
        "\n",
        "print('r2_score', r2_score(y_test, y_pred))\n",
        "print('mae', mean_absolute_error(y_test, y_pred))"
      ]
    },
    {
      "cell_type": "markdown",
      "id": "d9fca264-74db-4c6d-af73-3afe9af3366b",
      "metadata": {
        "id": "d9fca264-74db-4c6d-af73-3afe9af3366b"
      },
      "source": [
        "#### Ridge Regression"
      ]
    },
    {
      "cell_type": "code",
      "execution_count": null,
      "id": "9bb01178-d4a7-47c3-84bd-67d8eecc0e01",
      "metadata": {
        "id": "9bb01178-d4a7-47c3-84bd-67d8eecc0e01",
        "outputId": "0fb1e9be-29d9-4e95-805a-aca5fea26332"
      },
      "outputs": [
        {
          "name": "stdout",
          "output_type": "stream",
          "text": [
            "R2_score 0.7670271235450231\n",
            "MAE 0.20379724326699938\n"
          ]
        }
      ],
      "source": [
        "step1 = ColumnTransformer(transformers=[('col_tnf', OneHotEncoder(\n",
        "        sparse_output=False,drop='first'),[0,1,7,10,11])],remainder = 'passthrough')\n",
        "\n",
        "step2 = Ridge(alpha = 10)\n",
        "\n",
        "pipe = Pipeline([('step1',step1),\n",
        "                  ('step2',step2)])\n",
        "\n",
        "pipe.fit(x_train,y_train)\n",
        "\n",
        "y_pred = pipe.predict(x_test)\n",
        "\n",
        "print('R2_score', r2_score(y_pred,y_test))\n",
        "print('MAE', mean_absolute_error(y_pred,y_test))"
      ]
    },
    {
      "cell_type": "markdown",
      "id": "e3f7c082-1074-4213-8c3b-25f64540370a",
      "metadata": {
        "id": "e3f7c082-1074-4213-8c3b-25f64540370a"
      },
      "source": [
        "#### Lasso Regression"
      ]
    },
    {
      "cell_type": "code",
      "execution_count": null,
      "id": "4333e59c-a623-4e26-a3a5-bbe6f5860175",
      "metadata": {
        "id": "4333e59c-a623-4e26-a3a5-bbe6f5860175",
        "outputId": "e2825092-4291-4931-bbf1-453a3dd06c20"
      },
      "outputs": [
        {
          "name": "stdout",
          "output_type": "stream",
          "text": [
            "R2 score 0.7980036908146437\n",
            "MAE 0.20604038232747507\n"
          ]
        }
      ],
      "source": [
        "step1 = ColumnTransformer(transformers=[('col_tnf',\n",
        "                                        OneHotEncoder(sparse_output=False,drop = 'first'),[0,1,7,10,11])],\n",
        "                                         remainder = 'passthrough')\n",
        "\n",
        "step2 = Lasso(alpha = 0.001)\n",
        "\n",
        "pipe = Pipeline([('step1',step1),\n",
        "                  ('step2',step2)])\n",
        "\n",
        "pipe.fit(x_train,y_train)\n",
        "\n",
        "y_pred = pipe.predict(x_test)\n",
        "\n",
        "print('R2 score',r2_score(y_test,y_pred))\n",
        "print('MAE', mean_absolute_error(y_test,y_pred))"
      ]
    },
    {
      "cell_type": "markdown",
      "id": "c1bd0946-4b9e-4c12-94a2-d9fd9d675155",
      "metadata": {
        "id": "c1bd0946-4b9e-4c12-94a2-d9fd9d675155"
      },
      "source": [
        "#### KNN"
      ]
    },
    {
      "cell_type": "code",
      "execution_count": null,
      "id": "ad41f9f4-af50-478f-a1fe-f358e478f3a1",
      "metadata": {
        "id": "ad41f9f4-af50-478f-a1fe-f358e478f3a1",
        "outputId": "b02c6759-d5d2-4c06-8790-af253e414b7c"
      },
      "outputs": [
        {
          "name": "stdout",
          "output_type": "stream",
          "text": [
            "R2 score 0.790946074540896\n",
            "MAE 0.20204067422814023\n"
          ]
        }
      ],
      "source": [
        "step1 = ColumnTransformer(transformers=[('col_tnf',\n",
        "                                        OneHotEncoder(sparse_output=False,drop='first'),[0,1,7,10,11])],\n",
        "                                        remainder = 'passthrough')\n",
        "\n",
        "step2 = KNeighborsRegressor(n_neighbors=5)\n",
        "\n",
        "pipe = Pipeline([('step1',step1),\n",
        "                  ('step2',step2)])\n",
        "\n",
        "pipe.fit(x_train,y_train)\n",
        "\n",
        "y_pred = pipe.predict(x_test)\n",
        "\n",
        "print('R2 score',r2_score(y_test,y_pred))\n",
        "print('MAE', mean_absolute_error(y_test,y_pred))"
      ]
    },
    {
      "cell_type": "markdown",
      "id": "22ee9dcf-f8c7-4393-b677-ad0d63ae9440",
      "metadata": {
        "id": "22ee9dcf-f8c7-4393-b677-ad0d63ae9440"
      },
      "source": [
        "#### Decision Tree"
      ]
    },
    {
      "cell_type": "code",
      "execution_count": null,
      "id": "80073581-1b00-40e4-9d26-80dda669ea1e",
      "metadata": {
        "id": "80073581-1b00-40e4-9d26-80dda669ea1e",
        "outputId": "21171c5e-5290-490e-9cb0-c5350e497c73"
      },
      "outputs": [
        {
          "name": "stdout",
          "output_type": "stream",
          "text": [
            "R2 score 0.8012917978624908\n",
            "MAE 0.19936275804419468\n"
          ]
        }
      ],
      "source": [
        "step1 = ColumnTransformer(transformers=[('col_tnf',\n",
        "                                        OneHotEncoder(sparse_output=False,drop='first'),[0,1,7,10,11])],\n",
        "                                        remainder = 'passthrough')\n",
        "\n",
        "step2 = DecisionTreeRegressor(max_depth=8)\n",
        "\n",
        "pipe = Pipeline([('step1',step1),\n",
        "                  ('step2',step2)])\n",
        "\n",
        "pipe.fit(x_train,y_train)\n",
        "\n",
        "y_pred = pipe.predict(x_test)\n",
        "\n",
        "print('R2 score',r2_score(y_test,y_pred))\n",
        "print('MAE', mean_absolute_error(y_test,y_pred))"
      ]
    },
    {
      "cell_type": "markdown",
      "id": "a2629567-8412-477b-b3c0-0a96e4224412",
      "metadata": {
        "id": "a2629567-8412-477b-b3c0-0a96e4224412"
      },
      "source": [
        "#### Random Forest"
      ]
    },
    {
      "cell_type": "code",
      "execution_count": null,
      "id": "a2d575ed-618e-40b1-9fab-be4ee1517eac",
      "metadata": {
        "id": "a2d575ed-618e-40b1-9fab-be4ee1517eac",
        "outputId": "4154cd8b-6117-46d8-b112-296896825607"
      },
      "outputs": [
        {
          "name": "stdout",
          "output_type": "stream",
          "text": [
            "R2 score 0.86687155154199\n",
            "MAE 0.1648500746246564\n"
          ]
        }
      ],
      "source": [
        "step1 = ColumnTransformer(transformers=[('col_tnf',\n",
        "                                        OneHotEncoder(sparse_output=False,drop='first'),[0,1,7,10,11])],\n",
        "                                        remainder = 'passthrough')\n",
        "\n",
        "step2 = RandomForestRegressor(n_estimators=100,\n",
        "                              random_state=3,\n",
        "                              max_samples=0.5,\n",
        "                              max_features=0.75,\n",
        "                              max_depth=20)\n",
        "\n",
        "pipe = Pipeline([('step1',step1),\n",
        "                  ('step2',step2)])\n",
        "\n",
        "pipe.fit(x_train,y_train)\n",
        "\n",
        "y_pred = pipe.predict(x_test)\n",
        "\n",
        "print('R2 score',r2_score(y_test,y_pred))\n",
        "print('MAE', mean_absolute_error(y_test,y_pred))"
      ]
    },
    {
      "cell_type": "markdown",
      "id": "fe35a6a2-104f-4e37-a91b-63d63eda2d55",
      "metadata": {
        "id": "fe35a6a2-104f-4e37-a91b-63d63eda2d55"
      },
      "source": [
        "#### Gradient Boost"
      ]
    },
    {
      "cell_type": "code",
      "execution_count": null,
      "id": "aff276aa-40fe-4f58-8e54-451715c7380e",
      "metadata": {
        "id": "aff276aa-40fe-4f58-8e54-451715c7380e",
        "outputId": "d5e18d5c-9ba7-4af6-8c7f-dfe687d97a3b"
      },
      "outputs": [
        {
          "name": "stdout",
          "output_type": "stream",
          "text": [
            "R2 score 0.8631645564227596\n",
            "MAE 0.16342496526600223\n"
          ]
        }
      ],
      "source": [
        "step1 = ColumnTransformer(transformers=[('col_tnf',\n",
        "                                        OneHotEncoder(sparse_output=False,drop='first'),[0,1,7,10,11])],\n",
        "                                        remainder = 'passthrough')\n",
        "\n",
        "step2 = GradientBoostingRegressor(n_estimators=500)\n",
        "\n",
        "pipe = Pipeline([('step1',step1),\n",
        "                  ('step2',step2)])\n",
        "\n",
        "pipe.fit(x_train,y_train)\n",
        "\n",
        "y_pred = pipe.predict(x_test)\n",
        "\n",
        "print('R2 score',r2_score(y_test,y_pred))\n",
        "print('MAE', mean_absolute_error(y_test,y_pred))"
      ]
    },
    {
      "cell_type": "markdown",
      "id": "e726d461-4857-4001-953f-8a4d2bde5ec0",
      "metadata": {
        "id": "e726d461-4857-4001-953f-8a4d2bde5ec0"
      },
      "source": [
        "#### XgBoost"
      ]
    },
    {
      "cell_type": "code",
      "execution_count": null,
      "id": "76b86ce8-5c3a-47d6-a0ec-cb75675a09bc",
      "metadata": {
        "id": "76b86ce8-5c3a-47d6-a0ec-cb75675a09bc",
        "outputId": "0d91f6c4-3e63-431d-9707-175ea669f48d"
      },
      "outputs": [
        {
          "name": "stdout",
          "output_type": "stream",
          "text": [
            "R2 score 0.8567622649053191\n",
            "MAE 0.16620902434335433\n"
          ]
        }
      ],
      "source": [
        "step1 = ColumnTransformer(transformers=[('col_tnf',\n",
        "                                        OneHotEncoder(sparse_output=False,drop='first'),[0,1,7,10,11])],\n",
        "                                        remainder = 'passthrough')\n",
        "\n",
        "step2 = XGBRegressor(n_estimators= 45,\n",
        "                     max_depth = 5,\n",
        "                     learning_rate = 0.5)\n",
        "\n",
        "pipe = Pipeline([('step1',step1),\n",
        "                  ('step2',step2)])\n",
        "\n",
        "pipe.fit(x_train,y_train)\n",
        "\n",
        "y_pred = pipe.predict(x_test)\n",
        "\n",
        "print('R2 score',r2_score(y_test,y_pred))\n",
        "print('MAE', mean_absolute_error(y_test,y_pred))"
      ]
    },
    {
      "cell_type": "markdown",
      "id": "03ca9349-12b3-4b27-b0dd-1a6425b3dc40",
      "metadata": {
        "id": "03ca9349-12b3-4b27-b0dd-1a6425b3dc40"
      },
      "source": [
        "#### After building the model in differnet algorithms, it is clear that Random Forest Regressor gives the best r2_score"
      ]
    }
  ],
  "metadata": {
    "kernelspec": {
      "display_name": "Python 3 (ipykernel)",
      "language": "python",
      "name": "python3"
    },
    "language_info": {
      "codemirror_mode": {
        "name": "ipython",
        "version": 3
      },
      "file_extension": ".py",
      "mimetype": "text/x-python",
      "name": "python",
      "nbconvert_exporter": "python",
      "pygments_lexer": "ipython3",
      "version": "3.10.9"
    },
    "colab": {
      "provenance": []
    }
  },
  "nbformat": 4,
  "nbformat_minor": 5
}